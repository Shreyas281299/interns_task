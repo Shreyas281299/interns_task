{
 "cells": [
  {
   "cell_type": "code",
   "execution_count": 54,
   "metadata": {},
   "outputs": [
    {
     "data": {
      "text/html": [
       "        <script type=\"text/javascript\">\n",
       "        window.PlotlyConfig = {MathJaxConfig: 'local'};\n",
       "        if (window.MathJax) {MathJax.Hub.Config({SVG: {font: \"STIX-Web\"}});}\n",
       "        if (typeof require !== 'undefined') {\n",
       "        require.undef(\"plotly\");\n",
       "        requirejs.config({\n",
       "            paths: {\n",
       "                'plotly': ['https://cdn.plot.ly/plotly-latest.min']\n",
       "            }\n",
       "        });\n",
       "        require(['plotly'], function(Plotly) {\n",
       "            window._Plotly = Plotly;\n",
       "        });\n",
       "        }\n",
       "        </script>\n",
       "        "
      ]
     },
     "metadata": {},
     "output_type": "display_data"
    },
    {
     "data": {
      "text/html": [
       "        <script type=\"text/javascript\">\n",
       "        window.PlotlyConfig = {MathJaxConfig: 'local'};\n",
       "        if (window.MathJax) {MathJax.Hub.Config({SVG: {font: \"STIX-Web\"}});}\n",
       "        if (typeof require !== 'undefined') {\n",
       "        require.undef(\"plotly\");\n",
       "        requirejs.config({\n",
       "            paths: {\n",
       "                'plotly': ['https://cdn.plot.ly/plotly-latest.min']\n",
       "            }\n",
       "        });\n",
       "        require(['plotly'], function(Plotly) {\n",
       "            window._Plotly = Plotly;\n",
       "        });\n",
       "        }\n",
       "        </script>\n",
       "        "
      ]
     },
     "metadata": {},
     "output_type": "display_data"
    }
   ],
   "source": [
    "##importing major Libraries\n",
    "import numpy as np\n",
    "import matplotlib.pyplot as plt\n",
    "import pandas as pd\n",
    "import seaborn as sns\n",
    "import sklearn as sk\n",
    "import cufflinks as cf\n",
    "from plotly.offline import download_plotlyjs, init_notebook_mode, plot, iplot\n",
    "from sklearn.model_selection import train_test_split\n",
    "from sklearn.linear_model import LogisticRegression\n",
    "from sklearn.metrics import classification_report, confusion_matrix,accuracy_score\n",
    "from sklearn.preprocessing import MinMaxScaler\n",
    "from sklearn.neighbors import KNeighborsClassifier\n",
    "init_notebook_mode(connected=True)\n",
    "%matplotlib inline\n",
    "# For offline use\n",
    "cf.go_offline()"
   ]
  },
  {
   "cell_type": "code",
   "execution_count": 55,
   "metadata": {},
   "outputs": [
    {
     "data": {
      "text/html": [
       "<div>\n",
       "<style scoped>\n",
       "    .dataframe tbody tr th:only-of-type {\n",
       "        vertical-align: middle;\n",
       "    }\n",
       "\n",
       "    .dataframe tbody tr th {\n",
       "        vertical-align: top;\n",
       "    }\n",
       "\n",
       "    .dataframe thead th {\n",
       "        text-align: right;\n",
       "    }\n",
       "</style>\n",
       "<table border=\"1\" class=\"dataframe\">\n",
       "  <thead>\n",
       "    <tr style=\"text-align: right;\">\n",
       "      <th></th>\n",
       "      <th>user_id</th>\n",
       "      <th>account_id</th>\n",
       "      <th>max_return_days</th>\n",
       "      <th>average_return_days</th>\n",
       "      <th>customer_since_months</th>\n",
       "      <th>total_revenue</th>\n",
       "      <th>average_revenue</th>\n",
       "      <th>avg_vas_count</th>\n",
       "      <th>avg_used_vas_value</th>\n",
       "      <th>business_type</th>\n",
       "      <th>avg_wallet_bonus</th>\n",
       "      <th>avg_active_ads</th>\n",
       "      <th>avg_new_ads</th>\n",
       "      <th>avg_email_replies</th>\n",
       "      <th>avg_call_replies</th>\n",
       "      <th>avg_sms_replies</th>\n",
       "      <th>target</th>\n",
       "    </tr>\n",
       "  </thead>\n",
       "  <tbody>\n",
       "    <tr>\n",
       "      <th>0</th>\n",
       "      <td>410039</td>\n",
       "      <td>496.0</td>\n",
       "      <td>8</td>\n",
       "      <td>1.500000</td>\n",
       "      <td>14</td>\n",
       "      <td>0.0</td>\n",
       "      <td>0.0</td>\n",
       "      <td>3.666667</td>\n",
       "      <td>66.666667</td>\n",
       "      <td>0</td>\n",
       "      <td>300.0</td>\n",
       "      <td>79.333333</td>\n",
       "      <td>15.250000</td>\n",
       "      <td>32.416667</td>\n",
       "      <td>27.916667</td>\n",
       "      <td>0.250000</td>\n",
       "      <td>0</td>\n",
       "    </tr>\n",
       "    <tr>\n",
       "      <th>1</th>\n",
       "      <td>410240</td>\n",
       "      <td>499.0</td>\n",
       "      <td>37</td>\n",
       "      <td>8.200000</td>\n",
       "      <td>10</td>\n",
       "      <td>0.0</td>\n",
       "      <td>0.0</td>\n",
       "      <td>4.900000</td>\n",
       "      <td>114.000000</td>\n",
       "      <td>0</td>\n",
       "      <td>0.0</td>\n",
       "      <td>232.100000</td>\n",
       "      <td>18.300000</td>\n",
       "      <td>16.200000</td>\n",
       "      <td>13.800000</td>\n",
       "      <td>0.000000</td>\n",
       "      <td>0</td>\n",
       "    </tr>\n",
       "    <tr>\n",
       "      <th>2</th>\n",
       "      <td>411764</td>\n",
       "      <td>493.0</td>\n",
       "      <td>9</td>\n",
       "      <td>1.533333</td>\n",
       "      <td>15</td>\n",
       "      <td>0.0</td>\n",
       "      <td>0.0</td>\n",
       "      <td>5.333333</td>\n",
       "      <td>106.666667</td>\n",
       "      <td>0</td>\n",
       "      <td>150.0</td>\n",
       "      <td>55.083333</td>\n",
       "      <td>3.750000</td>\n",
       "      <td>20.250000</td>\n",
       "      <td>24.500000</td>\n",
       "      <td>0.000000</td>\n",
       "      <td>0</td>\n",
       "    </tr>\n",
       "    <tr>\n",
       "      <th>3</th>\n",
       "      <td>411985</td>\n",
       "      <td>262.0</td>\n",
       "      <td>1</td>\n",
       "      <td>1.000000</td>\n",
       "      <td>14</td>\n",
       "      <td>0.0</td>\n",
       "      <td>0.0</td>\n",
       "      <td>6.307692</td>\n",
       "      <td>176.153846</td>\n",
       "      <td>0</td>\n",
       "      <td>1481.0</td>\n",
       "      <td>409.538462</td>\n",
       "      <td>80.769231</td>\n",
       "      <td>87.461538</td>\n",
       "      <td>57.615385</td>\n",
       "      <td>0.000000</td>\n",
       "      <td>1</td>\n",
       "    </tr>\n",
       "    <tr>\n",
       "      <th>4</th>\n",
       "      <td>412071</td>\n",
       "      <td>496.0</td>\n",
       "      <td>1</td>\n",
       "      <td>1.000000</td>\n",
       "      <td>18</td>\n",
       "      <td>0.0</td>\n",
       "      <td>0.0</td>\n",
       "      <td>5.846154</td>\n",
       "      <td>109.230769</td>\n",
       "      <td>0</td>\n",
       "      <td>41.5</td>\n",
       "      <td>48.230769</td>\n",
       "      <td>1.692308</td>\n",
       "      <td>17.461538</td>\n",
       "      <td>25.769231</td>\n",
       "      <td>0.230769</td>\n",
       "      <td>0</td>\n",
       "    </tr>\n",
       "  </tbody>\n",
       "</table>\n",
       "</div>"
      ],
      "text/plain": [
       "   user_id  account_id  max_return_days  average_return_days  \\\n",
       "0   410039       496.0                8             1.500000   \n",
       "1   410240       499.0               37             8.200000   \n",
       "2   411764       493.0                9             1.533333   \n",
       "3   411985       262.0                1             1.000000   \n",
       "4   412071       496.0                1             1.000000   \n",
       "\n",
       "   customer_since_months  total_revenue  average_revenue  avg_vas_count  \\\n",
       "0                     14            0.0              0.0       3.666667   \n",
       "1                     10            0.0              0.0       4.900000   \n",
       "2                     15            0.0              0.0       5.333333   \n",
       "3                     14            0.0              0.0       6.307692   \n",
       "4                     18            0.0              0.0       5.846154   \n",
       "\n",
       "   avg_used_vas_value  business_type  avg_wallet_bonus  avg_active_ads  \\\n",
       "0           66.666667              0             300.0       79.333333   \n",
       "1          114.000000              0               0.0      232.100000   \n",
       "2          106.666667              0             150.0       55.083333   \n",
       "3          176.153846              0            1481.0      409.538462   \n",
       "4          109.230769              0              41.5       48.230769   \n",
       "\n",
       "   avg_new_ads  avg_email_replies  avg_call_replies  avg_sms_replies  target  \n",
       "0    15.250000          32.416667         27.916667         0.250000       0  \n",
       "1    18.300000          16.200000         13.800000         0.000000       0  \n",
       "2     3.750000          20.250000         24.500000         0.000000       0  \n",
       "3    80.769231          87.461538         57.615385         0.000000       1  \n",
       "4     1.692308          17.461538         25.769231         0.230769       0  "
      ]
     },
     "execution_count": 55,
     "metadata": {},
     "output_type": "execute_result"
    }
   ],
   "source": [
    "df = pd.read_csv('taskdata.txt')\n",
    "df.head()"
   ]
  },
  {
   "cell_type": "code",
   "execution_count": 56,
   "metadata": {},
   "outputs": [
    {
     "name": "stdout",
     "output_type": "stream",
     "text": [
      "<class 'pandas.core.frame.DataFrame'>\n",
      "RangeIndex: 4407 entries, 0 to 4406\n",
      "Data columns (total 17 columns):\n",
      " #   Column                 Non-Null Count  Dtype  \n",
      "---  ------                 --------------  -----  \n",
      " 0   user_id                4407 non-null   int64  \n",
      " 1   account_id             4400 non-null   float64\n",
      " 2   max_return_days        4407 non-null   int64  \n",
      " 3   average_return_days    4407 non-null   float64\n",
      " 4   customer_since_months  4407 non-null   int64  \n",
      " 5   total_revenue          4407 non-null   float64\n",
      " 6   average_revenue        4407 non-null   float64\n",
      " 7   avg_vas_count          4407 non-null   float64\n",
      " 8   avg_used_vas_value     4407 non-null   float64\n",
      " 9   business_type          4407 non-null   int64  \n",
      " 10  avg_wallet_bonus       4407 non-null   float64\n",
      " 11  avg_active_ads         4407 non-null   float64\n",
      " 12  avg_new_ads            4407 non-null   float64\n",
      " 13  avg_email_replies      4407 non-null   float64\n",
      " 14  avg_call_replies       4407 non-null   float64\n",
      " 15  avg_sms_replies        4407 non-null   float64\n",
      " 16  target                 4407 non-null   int64  \n",
      "dtypes: float64(12), int64(5)\n",
      "memory usage: 585.4 KB\n"
     ]
    }
   ],
   "source": [
    "df.info()"
   ]
  },
  {
   "cell_type": "code",
   "execution_count": 57,
   "metadata": {},
   "outputs": [
    {
     "data": {
      "text/html": [
       "<div>\n",
       "<style scoped>\n",
       "    .dataframe tbody tr th:only-of-type {\n",
       "        vertical-align: middle;\n",
       "    }\n",
       "\n",
       "    .dataframe tbody tr th {\n",
       "        vertical-align: top;\n",
       "    }\n",
       "\n",
       "    .dataframe thead th {\n",
       "        text-align: right;\n",
       "    }\n",
       "</style>\n",
       "<table border=\"1\" class=\"dataframe\">\n",
       "  <thead>\n",
       "    <tr style=\"text-align: right;\">\n",
       "      <th></th>\n",
       "      <th>user_id</th>\n",
       "      <th>account_id</th>\n",
       "      <th>max_return_days</th>\n",
       "      <th>average_return_days</th>\n",
       "      <th>customer_since_months</th>\n",
       "      <th>total_revenue</th>\n",
       "      <th>average_revenue</th>\n",
       "      <th>avg_vas_count</th>\n",
       "      <th>avg_used_vas_value</th>\n",
       "      <th>business_type</th>\n",
       "      <th>avg_wallet_bonus</th>\n",
       "      <th>avg_active_ads</th>\n",
       "      <th>avg_new_ads</th>\n",
       "      <th>avg_email_replies</th>\n",
       "      <th>avg_call_replies</th>\n",
       "      <th>avg_sms_replies</th>\n",
       "      <th>target</th>\n",
       "    </tr>\n",
       "  </thead>\n",
       "  <tbody>\n",
       "    <tr>\n",
       "      <th>count</th>\n",
       "      <td>4.407000e+03</td>\n",
       "      <td>4400.000000</td>\n",
       "      <td>4407.000000</td>\n",
       "      <td>4407.000000</td>\n",
       "      <td>4407.000000</td>\n",
       "      <td>4407.000000</td>\n",
       "      <td>4407.000000</td>\n",
       "      <td>4407.000000</td>\n",
       "      <td>4407.000000</td>\n",
       "      <td>4407.000000</td>\n",
       "      <td>4407.000000</td>\n",
       "      <td>4407.000000</td>\n",
       "      <td>4407.000000</td>\n",
       "      <td>4407.000000</td>\n",
       "      <td>4407.000000</td>\n",
       "      <td>4407.000000</td>\n",
       "      <td>4407.000000</td>\n",
       "    </tr>\n",
       "    <tr>\n",
       "      <th>mean</th>\n",
       "      <td>4.106655e+09</td>\n",
       "      <td>506.553864</td>\n",
       "      <td>22.335602</td>\n",
       "      <td>7.171576</td>\n",
       "      <td>9.874064</td>\n",
       "      <td>194.130365</td>\n",
       "      <td>16.942615</td>\n",
       "      <td>3.249388</td>\n",
       "      <td>72.119006</td>\n",
       "      <td>0.497844</td>\n",
       "      <td>338.851046</td>\n",
       "      <td>98.922260</td>\n",
       "      <td>16.812003</td>\n",
       "      <td>25.681004</td>\n",
       "      <td>27.622151</td>\n",
       "      <td>0.162009</td>\n",
       "      <td>0.103245</td>\n",
       "    </tr>\n",
       "    <tr>\n",
       "      <th>std</th>\n",
       "      <td>6.794948e+09</td>\n",
       "      <td>326.072756</td>\n",
       "      <td>43.591246</td>\n",
       "      <td>19.209092</td>\n",
       "      <td>5.169639</td>\n",
       "      <td>1548.361547</td>\n",
       "      <td>128.268824</td>\n",
       "      <td>5.509869</td>\n",
       "      <td>117.019515</td>\n",
       "      <td>1.199725</td>\n",
       "      <td>831.746150</td>\n",
       "      <td>297.692950</td>\n",
       "      <td>68.045904</td>\n",
       "      <td>55.324218</td>\n",
       "      <td>61.069006</td>\n",
       "      <td>0.517693</td>\n",
       "      <td>0.304313</td>\n",
       "    </tr>\n",
       "    <tr>\n",
       "      <th>min</th>\n",
       "      <td>4.100390e+05</td>\n",
       "      <td>111.000000</td>\n",
       "      <td>1.000000</td>\n",
       "      <td>0.500000</td>\n",
       "      <td>1.000000</td>\n",
       "      <td>0.000000</td>\n",
       "      <td>0.000000</td>\n",
       "      <td>0.000000</td>\n",
       "      <td>0.000000</td>\n",
       "      <td>0.000000</td>\n",
       "      <td>0.000000</td>\n",
       "      <td>0.000000</td>\n",
       "      <td>0.000000</td>\n",
       "      <td>0.000000</td>\n",
       "      <td>0.000000</td>\n",
       "      <td>0.000000</td>\n",
       "      <td>0.000000</td>\n",
       "    </tr>\n",
       "    <tr>\n",
       "      <th>25%</th>\n",
       "      <td>6.184510e+08</td>\n",
       "      <td>226.000000</td>\n",
       "      <td>1.000000</td>\n",
       "      <td>1.000000</td>\n",
       "      <td>5.000000</td>\n",
       "      <td>0.000000</td>\n",
       "      <td>0.000000</td>\n",
       "      <td>0.142857</td>\n",
       "      <td>2.727273</td>\n",
       "      <td>0.000000</td>\n",
       "      <td>0.000000</td>\n",
       "      <td>13.500000</td>\n",
       "      <td>2.500000</td>\n",
       "      <td>4.461538</td>\n",
       "      <td>4.384615</td>\n",
       "      <td>0.000000</td>\n",
       "      <td>0.000000</td>\n",
       "    </tr>\n",
       "    <tr>\n",
       "      <th>50%</th>\n",
       "      <td>7.296626e+08</td>\n",
       "      <td>493.000000</td>\n",
       "      <td>2.000000</td>\n",
       "      <td>1.076923</td>\n",
       "      <td>12.000000</td>\n",
       "      <td>0.000000</td>\n",
       "      <td>0.000000</td>\n",
       "      <td>2.000000</td>\n",
       "      <td>45.000000</td>\n",
       "      <td>0.000000</td>\n",
       "      <td>40.000000</td>\n",
       "      <td>40.000000</td>\n",
       "      <td>6.333333</td>\n",
       "      <td>12.266667</td>\n",
       "      <td>12.933333</td>\n",
       "      <td>0.000000</td>\n",
       "      <td>0.000000</td>\n",
       "    </tr>\n",
       "    <tr>\n",
       "      <th>75%</th>\n",
       "      <td>7.292936e+09</td>\n",
       "      <td>1005.000000</td>\n",
       "      <td>30.000000</td>\n",
       "      <td>5.666667</td>\n",
       "      <td>14.000000</td>\n",
       "      <td>0.000000</td>\n",
       "      <td>0.000000</td>\n",
       "      <td>4.333333</td>\n",
       "      <td>100.000000</td>\n",
       "      <td>0.000000</td>\n",
       "      <td>327.280000</td>\n",
       "      <td>101.291667</td>\n",
       "      <td>14.250000</td>\n",
       "      <td>28.000000</td>\n",
       "      <td>30.784615</td>\n",
       "      <td>0.153846</td>\n",
       "      <td>0.000000</td>\n",
       "    </tr>\n",
       "    <tr>\n",
       "      <th>max</th>\n",
       "      <td>7.356031e+10</td>\n",
       "      <td>1017.000000</td>\n",
       "      <td>354.000000</td>\n",
       "      <td>354.000000</td>\n",
       "      <td>24.000000</td>\n",
       "      <td>43957.172700</td>\n",
       "      <td>3852.727273</td>\n",
       "      <td>156.583333</td>\n",
       "      <td>3357.500000</td>\n",
       "      <td>5.000000</td>\n",
       "      <td>15606.500000</td>\n",
       "      <td>9183.866667</td>\n",
       "      <td>2606.000000</td>\n",
       "      <td>1716.400000</td>\n",
       "      <td>1743.266667</td>\n",
       "      <td>14.636364</td>\n",
       "      <td>1.000000</td>\n",
       "    </tr>\n",
       "  </tbody>\n",
       "</table>\n",
       "</div>"
      ],
      "text/plain": [
       "            user_id   account_id  max_return_days  average_return_days  \\\n",
       "count  4.407000e+03  4400.000000      4407.000000          4407.000000   \n",
       "mean   4.106655e+09   506.553864        22.335602             7.171576   \n",
       "std    6.794948e+09   326.072756        43.591246            19.209092   \n",
       "min    4.100390e+05   111.000000         1.000000             0.500000   \n",
       "25%    6.184510e+08   226.000000         1.000000             1.000000   \n",
       "50%    7.296626e+08   493.000000         2.000000             1.076923   \n",
       "75%    7.292936e+09  1005.000000        30.000000             5.666667   \n",
       "max    7.356031e+10  1017.000000       354.000000           354.000000   \n",
       "\n",
       "       customer_since_months  total_revenue  average_revenue  avg_vas_count  \\\n",
       "count            4407.000000    4407.000000      4407.000000    4407.000000   \n",
       "mean                9.874064     194.130365        16.942615       3.249388   \n",
       "std                 5.169639    1548.361547       128.268824       5.509869   \n",
       "min                 1.000000       0.000000         0.000000       0.000000   \n",
       "25%                 5.000000       0.000000         0.000000       0.142857   \n",
       "50%                12.000000       0.000000         0.000000       2.000000   \n",
       "75%                14.000000       0.000000         0.000000       4.333333   \n",
       "max                24.000000   43957.172700      3852.727273     156.583333   \n",
       "\n",
       "       avg_used_vas_value  business_type  avg_wallet_bonus  avg_active_ads  \\\n",
       "count         4407.000000    4407.000000       4407.000000     4407.000000   \n",
       "mean            72.119006       0.497844        338.851046       98.922260   \n",
       "std            117.019515       1.199725        831.746150      297.692950   \n",
       "min              0.000000       0.000000          0.000000        0.000000   \n",
       "25%              2.727273       0.000000          0.000000       13.500000   \n",
       "50%             45.000000       0.000000         40.000000       40.000000   \n",
       "75%            100.000000       0.000000        327.280000      101.291667   \n",
       "max           3357.500000       5.000000      15606.500000     9183.866667   \n",
       "\n",
       "       avg_new_ads  avg_email_replies  avg_call_replies  avg_sms_replies  \\\n",
       "count  4407.000000        4407.000000       4407.000000      4407.000000   \n",
       "mean     16.812003          25.681004         27.622151         0.162009   \n",
       "std      68.045904          55.324218         61.069006         0.517693   \n",
       "min       0.000000           0.000000          0.000000         0.000000   \n",
       "25%       2.500000           4.461538          4.384615         0.000000   \n",
       "50%       6.333333          12.266667         12.933333         0.000000   \n",
       "75%      14.250000          28.000000         30.784615         0.153846   \n",
       "max    2606.000000        1716.400000       1743.266667        14.636364   \n",
       "\n",
       "            target  \n",
       "count  4407.000000  \n",
       "mean      0.103245  \n",
       "std       0.304313  \n",
       "min       0.000000  \n",
       "25%       0.000000  \n",
       "50%       0.000000  \n",
       "75%       0.000000  \n",
       "max       1.000000  "
      ]
     },
     "execution_count": 57,
     "metadata": {},
     "output_type": "execute_result"
    }
   ],
   "source": [
    "df.describe()"
   ]
  },
  {
   "cell_type": "code",
   "execution_count": 58,
   "metadata": {},
   "outputs": [
    {
     "data": {
      "text/plain": [
       "user_id                  0\n",
       "account_id               7\n",
       "max_return_days          0\n",
       "average_return_days      0\n",
       "customer_since_months    0\n",
       "total_revenue            0\n",
       "average_revenue          0\n",
       "avg_vas_count            0\n",
       "avg_used_vas_value       0\n",
       "business_type            0\n",
       "avg_wallet_bonus         0\n",
       "avg_active_ads           0\n",
       "avg_new_ads              0\n",
       "avg_email_replies        0\n",
       "avg_call_replies         0\n",
       "avg_sms_replies          0\n",
       "target                   0\n",
       "dtype: int64"
      ]
     },
     "execution_count": 58,
     "metadata": {},
     "output_type": "execute_result"
    },
    {
     "data": {
      "image/png": "[encoded data removed]",
      "text/plain": [
       "<Figure size 432x288 with 2 Axes>"
      ]
     },
     "metadata": {
      "needs_background": "light"
     },
     "output_type": "display_data"
    }
   ],
   "source": [
    "sns.heatmap(df.isnull())\n",
    "df.isnull().sum()"
   ]
  },
  {
   "cell_type": "code",
   "execution_count": 59,
   "metadata": {},
   "outputs": [
    {
     "data": {
      "text/plain": [
       "0"
      ]
     },
     "execution_count": 59,
     "metadata": {},
     "output_type": "execute_result"
    }
   ],
   "source": [
    "## Since the number of null value is considerable smaller and denotes a unique value ,\n",
    "## We could also choose to give them another unique ID but here I have just removed them as \n",
    "## 7 out of 4400 is not a big number\n",
    "df.dropna(axis =0,inplace= True)\n",
    "#sns.heatmap(df.isnull()) ## uncomment to view the heatmap that shows the data has no none values now\n",
    "df.duplicated().sum()"
   ]
  },
  {
   "cell_type": "code",
   "execution_count": 60,
   "metadata": {},
   "outputs": [
    {
     "data": {
      "text/plain": [
       "<matplotlib.axes._subplots.AxesSubplot at 0x7f893b206640>"
      ]
     },
     "execution_count": 60,
     "metadata": {},
     "output_type": "execute_result"
    },
    {
     "data": {
      "image/png": "[encoded data removed]",
      "text/plain": [
       "<Figure size 864x720 with 2 Axes>"
      ]
     },
     "metadata": {
      "needs_background": "light"
     },
     "output_type": "display_data"
    }
   ],
   "source": [
    "## Since there are no None values and no duplicates we can start describing the dataset\n",
    "plt.figure(figsize=(12,10))\n",
    "cor_columns = df.corr()\n",
    "sns.heatmap(cor_columns,)"
   ]
  },
  {
   "cell_type": "markdown",
   "metadata": {},
   "source": [
    "#### User id, account id  has no contribution in the target variable"
   ]
  },
  {
   "cell_type": "code",
   "execution_count": 61,
   "metadata": {
    "scrolled": true
   },
   "outputs": [
    {
     "data": {
      "text/plain": [
       "<matplotlib.axes._subplots.AxesSubplot at 0x7f89397e8b50>"
      ]
     },
     "execution_count": 61,
     "metadata": {},
     "output_type": "execute_result"
    },
    {
     "data": {
      "image/png": "[encoded data removed]",
      "text/plain": [
       "<Figure size 1080x360 with 1 Axes>"
      ]
     },
     "metadata": {
      "needs_background": "light"
     },
     "output_type": "display_data"
    }
   ],
   "source": [
    "plt.figure(figsize=(15,5))\n",
    "sns.boxplot(y=df['average_return_days'],x=df['customer_since_months'])\n",
    "## We see there is a trend in the return days and the number of months a customer has been with coming"
   ]
  },
  {
   "cell_type": "markdown",
   "metadata": {},
   "source": [
    "#### From the above graph it can be infered that :\n",
    "#### 1) More loyal customers are returns more often \n",
    "####  2) Newer customers are more likely not to return for a long time"
   ]
  },
  {
   "cell_type": "markdown",
   "metadata": {},
   "source": [
    "#### Function to group customers since quarters \n",
    "#### Quarter 1 means for the first 4 months of the data\n",
    "#### Quarter 2 means for the 4th to 8th months of the data\n",
    "#### and so on."
   ]
  },
  {
   "cell_type": "code",
   "execution_count": 62,
   "metadata": {},
   "outputs": [],
   "source": [
    "def quater_func (value):\n",
    "    if value%4 == 0:\n",
    "        return  int(value/4)\n",
    "    else:\n",
    "        return int(value/4)+1"
   ]
  },
  {
   "cell_type": "code",
   "execution_count": 63,
   "metadata": {},
   "outputs": [],
   "source": [
    "df['Quater'] = df['customer_since_months'].apply(quater_func)\n",
    "grop_df = df.groupby(df['Quater']).mean()"
   ]
  },
  {
   "cell_type": "code",
   "execution_count": 64,
   "metadata": {},
   "outputs": [
    {
     "data": {
      "text/html": [
       "<div>\n",
       "<style scoped>\n",
       "    .dataframe tbody tr th:only-of-type {\n",
       "        vertical-align: middle;\n",
       "    }\n",
       "\n",
       "    .dataframe tbody tr th {\n",
       "        vertical-align: top;\n",
       "    }\n",
       "\n",
       "    .dataframe thead th {\n",
       "        text-align: right;\n",
       "    }\n",
       "</style>\n",
       "<table border=\"1\" class=\"dataframe\">\n",
       "  <thead>\n",
       "    <tr style=\"text-align: right;\">\n",
       "      <th></th>\n",
       "      <th>max_return_days</th>\n",
       "      <th>average_return_days</th>\n",
       "      <th>customer_since_months</th>\n",
       "      <th>average_revenue</th>\n",
       "      <th>avg_vas_count</th>\n",
       "      <th>avg_used_vas_value</th>\n",
       "      <th>avg_wallet_bonus</th>\n",
       "      <th>avg_active_ads</th>\n",
       "      <th>avg_new_ads</th>\n",
       "      <th>avg_email_replies</th>\n",
       "      <th>avg_call_replies</th>\n",
       "      <th>avg_sms_replies</th>\n",
       "      <th>Quater</th>\n",
       "    </tr>\n",
       "    <tr>\n",
       "      <th>Quater</th>\n",
       "      <th></th>\n",
       "      <th></th>\n",
       "      <th></th>\n",
       "      <th></th>\n",
       "      <th></th>\n",
       "      <th></th>\n",
       "      <th></th>\n",
       "      <th></th>\n",
       "      <th></th>\n",
       "      <th></th>\n",
       "      <th></th>\n",
       "      <th></th>\n",
       "      <th></th>\n",
       "    </tr>\n",
       "  </thead>\n",
       "  <tbody>\n",
       "    <tr>\n",
       "      <th>1</th>\n",
       "      <td>24.353982</td>\n",
       "      <td>14.045067</td>\n",
       "      <td>2.436578</td>\n",
       "      <td>5.269645</td>\n",
       "      <td>0.966781</td>\n",
       "      <td>19.242216</td>\n",
       "      <td>7.606686</td>\n",
       "      <td>36.908128</td>\n",
       "      <td>13.823419</td>\n",
       "      <td>11.089626</td>\n",
       "      <td>11.643215</td>\n",
       "      <td>0.090659</td>\n",
       "      <td>1.0</td>\n",
       "    </tr>\n",
       "    <tr>\n",
       "      <th>2</th>\n",
       "      <td>46.700709</td>\n",
       "      <td>12.373673</td>\n",
       "      <td>6.424113</td>\n",
       "      <td>9.050182</td>\n",
       "      <td>1.602084</td>\n",
       "      <td>34.651418</td>\n",
       "      <td>92.267348</td>\n",
       "      <td>69.888434</td>\n",
       "      <td>19.453489</td>\n",
       "      <td>14.922309</td>\n",
       "      <td>15.652785</td>\n",
       "      <td>0.083652</td>\n",
       "      <td>2.0</td>\n",
       "    </tr>\n",
       "    <tr>\n",
       "      <th>3</th>\n",
       "      <td>34.503279</td>\n",
       "      <td>6.604372</td>\n",
       "      <td>10.609836</td>\n",
       "      <td>27.204119</td>\n",
       "      <td>3.282805</td>\n",
       "      <td>70.621009</td>\n",
       "      <td>200.335230</td>\n",
       "      <td>131.246028</td>\n",
       "      <td>17.483892</td>\n",
       "      <td>25.138977</td>\n",
       "      <td>26.995186</td>\n",
       "      <td>0.162817</td>\n",
       "      <td>3.0</td>\n",
       "    </tr>\n",
       "    <tr>\n",
       "      <th>4</th>\n",
       "      <td>9.568108</td>\n",
       "      <td>2.172259</td>\n",
       "      <td>14.081081</td>\n",
       "      <td>21.161152</td>\n",
       "      <td>4.848072</td>\n",
       "      <td>109.072002</td>\n",
       "      <td>565.709108</td>\n",
       "      <td>126.977359</td>\n",
       "      <td>16.645055</td>\n",
       "      <td>36.617245</td>\n",
       "      <td>39.535122</td>\n",
       "      <td>0.223967</td>\n",
       "      <td>4.0</td>\n",
       "    </tr>\n",
       "    <tr>\n",
       "      <th>5</th>\n",
       "      <td>9.047847</td>\n",
       "      <td>2.390686</td>\n",
       "      <td>18.000000</td>\n",
       "      <td>31.172177</td>\n",
       "      <td>5.558259</td>\n",
       "      <td>130.851051</td>\n",
       "      <td>1016.297895</td>\n",
       "      <td>151.408420</td>\n",
       "      <td>20.547143</td>\n",
       "      <td>36.883480</td>\n",
       "      <td>41.146689</td>\n",
       "      <td>0.220672</td>\n",
       "      <td>5.0</td>\n",
       "    </tr>\n",
       "  </tbody>\n",
       "</table>\n",
       "</div>"
      ],
      "text/plain": [
       "        max_return_days  average_return_days  customer_since_months  \\\n",
       "Quater                                                                \n",
       "1             24.353982            14.045067               2.436578   \n",
       "2             46.700709            12.373673               6.424113   \n",
       "3             34.503279             6.604372              10.609836   \n",
       "4              9.568108             2.172259              14.081081   \n",
       "5              9.047847             2.390686              18.000000   \n",
       "\n",
       "        average_revenue  avg_vas_count  avg_used_vas_value  avg_wallet_bonus  \\\n",
       "Quater                                                                         \n",
       "1              5.269645       0.966781           19.242216          7.606686   \n",
       "2              9.050182       1.602084           34.651418         92.267348   \n",
       "3             27.204119       3.282805           70.621009        200.335230   \n",
       "4             21.161152       4.848072          109.072002        565.709108   \n",
       "5             31.172177       5.558259          130.851051       1016.297895   \n",
       "\n",
       "        avg_active_ads  avg_new_ads  avg_email_replies  avg_call_replies  \\\n",
       "Quater                                                                     \n",
       "1            36.908128    13.823419          11.089626         11.643215   \n",
       "2            69.888434    19.453489          14.922309         15.652785   \n",
       "3           131.246028    17.483892          25.138977         26.995186   \n",
       "4           126.977359    16.645055          36.617245         39.535122   \n",
       "5           151.408420    20.547143          36.883480         41.146689   \n",
       "\n",
       "        avg_sms_replies  Quater  \n",
       "Quater                           \n",
       "1              0.090659     1.0  \n",
       "2              0.083652     2.0  \n",
       "3              0.162817     3.0  \n",
       "4              0.223967     4.0  \n",
       "5              0.220672     5.0  "
      ]
     },
     "execution_count": 64,
     "metadata": {},
     "output_type": "execute_result"
    }
   ],
   "source": [
    "\n",
    "grop_df.drop(['target','user_id','account_id','business_type','total_revenue'],axis='columns',inplace=True)\n",
    "grop_df.head()"
   ]
  },
  {
   "cell_type": "code",
   "execution_count": 65,
   "metadata": {},
   "outputs": [
    {
     "data": {
      "text/plain": [
       "<matplotlib.axes._subplots.AxesSubplot at 0x7f893b313970>"
      ]
     },
     "execution_count": 65,
     "metadata": {},
     "output_type": "execute_result"
    },
    {
     "data": {
      "image/png": "[encoded data removed]",
      "text/plain": [
       "<Figure size 432x288 with 1 Axes>"
      ]
     },
     "metadata": {
      "needs_background": "light"
     },
     "output_type": "display_data"
    }
   ],
   "source": [
    "sns.barplot(x=grop_df['Quater'],y=grop_df['average_return_days'],palette=\"pastel\")"
   ]
  },
  {
   "cell_type": "code",
   "execution_count": 66,
   "metadata": {},
   "outputs": [
    {
     "data": {
      "text/html": [
       "<div>\n",
       "<style scoped>\n",
       "    .dataframe tbody tr th:only-of-type {\n",
       "        vertical-align: middle;\n",
       "    }\n",
       "\n",
       "    .dataframe tbody tr th {\n",
       "        vertical-align: top;\n",
       "    }\n",
       "\n",
       "    .dataframe thead th {\n",
       "        text-align: right;\n",
       "    }\n",
       "</style>\n",
       "<table border=\"1\" class=\"dataframe\">\n",
       "  <thead>\n",
       "    <tr style=\"text-align: right;\">\n",
       "      <th></th>\n",
       "      <th>Quater</th>\n",
       "      <th>user_id</th>\n",
       "      <th>account_id</th>\n",
       "      <th>max_return_days</th>\n",
       "      <th>average_return_days</th>\n",
       "      <th>customer_since_months</th>\n",
       "      <th>total_revenue</th>\n",
       "      <th>average_revenue</th>\n",
       "      <th>avg_vas_count</th>\n",
       "      <th>avg_used_vas_value</th>\n",
       "      <th>business_type</th>\n",
       "      <th>avg_wallet_bonus</th>\n",
       "      <th>avg_active_ads</th>\n",
       "      <th>avg_new_ads</th>\n",
       "      <th>avg_email_replies</th>\n",
       "      <th>avg_call_replies</th>\n",
       "      <th>avg_sms_replies</th>\n",
       "      <th>target</th>\n",
       "    </tr>\n",
       "  </thead>\n",
       "  <tbody>\n",
       "    <tr>\n",
       "      <th>0</th>\n",
       "      <td>1</td>\n",
       "      <td>5.701822e+09</td>\n",
       "      <td>508.969518</td>\n",
       "      <td>24.353982</td>\n",
       "      <td>14.045067</td>\n",
       "      <td>2.436578</td>\n",
       "      <td>10.885056</td>\n",
       "      <td>5.269645</td>\n",
       "      <td>0.966781</td>\n",
       "      <td>19.242216</td>\n",
       "      <td>0.918387</td>\n",
       "      <td>7.606686</td>\n",
       "      <td>36.908128</td>\n",
       "      <td>13.823419</td>\n",
       "      <td>11.089626</td>\n",
       "      <td>11.643215</td>\n",
       "      <td>0.090659</td>\n",
       "      <td>0.182891</td>\n",
       "    </tr>\n",
       "    <tr>\n",
       "      <th>1</th>\n",
       "      <td>2</td>\n",
       "      <td>5.451548e+09</td>\n",
       "      <td>657.758865</td>\n",
       "      <td>46.700709</td>\n",
       "      <td>12.373673</td>\n",
       "      <td>6.424113</td>\n",
       "      <td>47.291654</td>\n",
       "      <td>9.050182</td>\n",
       "      <td>1.602084</td>\n",
       "      <td>34.651418</td>\n",
       "      <td>0.649645</td>\n",
       "      <td>92.267348</td>\n",
       "      <td>69.888434</td>\n",
       "      <td>19.453489</td>\n",
       "      <td>14.922309</td>\n",
       "      <td>15.652785</td>\n",
       "      <td>0.083652</td>\n",
       "      <td>0.229787</td>\n",
       "    </tr>\n",
       "    <tr>\n",
       "      <th>2</th>\n",
       "      <td>3</td>\n",
       "      <td>4.159481e+09</td>\n",
       "      <td>552.095082</td>\n",
       "      <td>34.503279</td>\n",
       "      <td>6.604372</td>\n",
       "      <td>10.609836</td>\n",
       "      <td>297.001110</td>\n",
       "      <td>27.204119</td>\n",
       "      <td>3.282805</td>\n",
       "      <td>70.621009</td>\n",
       "      <td>0.318033</td>\n",
       "      <td>200.335230</td>\n",
       "      <td>131.246028</td>\n",
       "      <td>17.483892</td>\n",
       "      <td>25.138977</td>\n",
       "      <td>26.995186</td>\n",
       "      <td>0.162817</td>\n",
       "      <td>0.072131</td>\n",
       "    </tr>\n",
       "    <tr>\n",
       "      <th>3</th>\n",
       "      <td>4</td>\n",
       "      <td>2.875391e+09</td>\n",
       "      <td>447.035676</td>\n",
       "      <td>9.568108</td>\n",
       "      <td>2.172259</td>\n",
       "      <td>14.081081</td>\n",
       "      <td>286.772666</td>\n",
       "      <td>21.161152</td>\n",
       "      <td>4.848072</td>\n",
       "      <td>109.072002</td>\n",
       "      <td>0.297838</td>\n",
       "      <td>565.709108</td>\n",
       "      <td>126.977359</td>\n",
       "      <td>16.645055</td>\n",
       "      <td>36.617245</td>\n",
       "      <td>39.535122</td>\n",
       "      <td>0.223967</td>\n",
       "      <td>0.031351</td>\n",
       "    </tr>\n",
       "    <tr>\n",
       "      <th>4</th>\n",
       "      <td>5</td>\n",
       "      <td>2.709246e+09</td>\n",
       "      <td>380.315789</td>\n",
       "      <td>9.047847</td>\n",
       "      <td>2.390686</td>\n",
       "      <td>18.000000</td>\n",
       "      <td>430.151007</td>\n",
       "      <td>31.172177</td>\n",
       "      <td>5.558259</td>\n",
       "      <td>130.851051</td>\n",
       "      <td>0.200957</td>\n",
       "      <td>1016.297895</td>\n",
       "      <td>151.408420</td>\n",
       "      <td>20.547143</td>\n",
       "      <td>36.883480</td>\n",
       "      <td>41.146689</td>\n",
       "      <td>0.220672</td>\n",
       "      <td>0.009569</td>\n",
       "    </tr>\n",
       "    <tr>\n",
       "      <th>5</th>\n",
       "      <td>6</td>\n",
       "      <td>2.398392e+08</td>\n",
       "      <td>468.333333</td>\n",
       "      <td>7.111111</td>\n",
       "      <td>1.533011</td>\n",
       "      <td>22.333333</td>\n",
       "      <td>1057.792056</td>\n",
       "      <td>74.318857</td>\n",
       "      <td>7.905271</td>\n",
       "      <td>171.887464</td>\n",
       "      <td>0.666667</td>\n",
       "      <td>4328.831111</td>\n",
       "      <td>238.782051</td>\n",
       "      <td>28.554843</td>\n",
       "      <td>60.553419</td>\n",
       "      <td>66.861823</td>\n",
       "      <td>0.335470</td>\n",
       "      <td>0.222222</td>\n",
       "    </tr>\n",
       "  </tbody>\n",
       "</table>\n",
       "</div>"
      ],
      "text/plain": [
       "   Quater       user_id  account_id  max_return_days  average_return_days  \\\n",
       "0       1  5.701822e+09  508.969518        24.353982            14.045067   \n",
       "1       2  5.451548e+09  657.758865        46.700709            12.373673   \n",
       "2       3  4.159481e+09  552.095082        34.503279             6.604372   \n",
       "3       4  2.875391e+09  447.035676         9.568108             2.172259   \n",
       "4       5  2.709246e+09  380.315789         9.047847             2.390686   \n",
       "5       6  2.398392e+08  468.333333         7.111111             1.533011   \n",
       "\n",
       "   customer_since_months  total_revenue  average_revenue  avg_vas_count  \\\n",
       "0               2.436578      10.885056         5.269645       0.966781   \n",
       "1               6.424113      47.291654         9.050182       1.602084   \n",
       "2              10.609836     297.001110        27.204119       3.282805   \n",
       "3              14.081081     286.772666        21.161152       4.848072   \n",
       "4              18.000000     430.151007        31.172177       5.558259   \n",
       "5              22.333333    1057.792056        74.318857       7.905271   \n",
       "\n",
       "   avg_used_vas_value  business_type  avg_wallet_bonus  avg_active_ads  \\\n",
       "0           19.242216       0.918387          7.606686       36.908128   \n",
       "1           34.651418       0.649645         92.267348       69.888434   \n",
       "2           70.621009       0.318033        200.335230      131.246028   \n",
       "3          109.072002       0.297838        565.709108      126.977359   \n",
       "4          130.851051       0.200957       1016.297895      151.408420   \n",
       "5          171.887464       0.666667       4328.831111      238.782051   \n",
       "\n",
       "   avg_new_ads  avg_email_replies  avg_call_replies  avg_sms_replies    target  \n",
       "0    13.823419          11.089626         11.643215         0.090659  0.182891  \n",
       "1    19.453489          14.922309         15.652785         0.083652  0.229787  \n",
       "2    17.483892          25.138977         26.995186         0.162817  0.072131  \n",
       "3    16.645055          36.617245         39.535122         0.223967  0.031351  \n",
       "4    20.547143          36.883480         41.146689         0.220672  0.009569  \n",
       "5    28.554843          60.553419         66.861823         0.335470  0.222222  "
      ]
     },
     "execution_count": 66,
     "metadata": {},
     "output_type": "execute_result"
    }
   ],
   "source": [
    " df.groupby(df['Quater']).mean().reset_index()"
   ]
  },
  {
   "cell_type": "code",
   "execution_count": 67,
   "metadata": {},
   "outputs": [
    {
     "data": {
      "text/html": [
       "<div>\n",
       "<style scoped>\n",
       "    .dataframe tbody tr th:only-of-type {\n",
       "        vertical-align: middle;\n",
       "    }\n",
       "\n",
       "    .dataframe tbody tr th {\n",
       "        vertical-align: top;\n",
       "    }\n",
       "\n",
       "    .dataframe thead th {\n",
       "        text-align: right;\n",
       "    }\n",
       "</style>\n",
       "<table border=\"1\" class=\"dataframe\">\n",
       "  <thead>\n",
       "    <tr style=\"text-align: right;\">\n",
       "      <th></th>\n",
       "      <th>Quater</th>\n",
       "      <th>user_id</th>\n",
       "    </tr>\n",
       "  </thead>\n",
       "  <tbody>\n",
       "    <tr>\n",
       "      <th>0</th>\n",
       "      <td>1</td>\n",
       "      <td>1017</td>\n",
       "    </tr>\n",
       "    <tr>\n",
       "      <th>1</th>\n",
       "      <td>2</td>\n",
       "      <td>705</td>\n",
       "    </tr>\n",
       "    <tr>\n",
       "      <th>2</th>\n",
       "      <td>3</td>\n",
       "      <td>610</td>\n",
       "    </tr>\n",
       "    <tr>\n",
       "      <th>3</th>\n",
       "      <td>4</td>\n",
       "      <td>1850</td>\n",
       "    </tr>\n",
       "    <tr>\n",
       "      <th>4</th>\n",
       "      <td>5</td>\n",
       "      <td>209</td>\n",
       "    </tr>\n",
       "    <tr>\n",
       "      <th>5</th>\n",
       "      <td>6</td>\n",
       "      <td>9</td>\n",
       "    </tr>\n",
       "  </tbody>\n",
       "</table>\n",
       "</div>"
      ],
      "text/plain": [
       "   Quater  user_id\n",
       "0       1     1017\n",
       "1       2      705\n",
       "2       3      610\n",
       "3       4     1850\n",
       "4       5      209\n",
       "5       6        9"
      ]
     },
     "execution_count": 67,
     "metadata": {},
     "output_type": "execute_result"
    }
   ],
   "source": [
    " df.groupby(df['Quater']).count().reset_index()[['Quater','user_id']]"
   ]
  },
  {
   "cell_type": "code",
   "execution_count": 68,
   "metadata": {},
   "outputs": [],
   "source": [
    "# As quarter increates max_return_days in decreases , average_revenue increases"
   ]
  },
  {
   "cell_type": "markdown",
   "metadata": {},
   "source": [
    "#### From the above plot it is evident that customers who have been with the company has been \n",
    "#### returning more often in comparision to the customers that are reletively \n"
   ]
  },
  {
   "cell_type": "code",
   "execution_count": 69,
   "metadata": {},
   "outputs": [
    {
     "data": {
      "text/plain": [
       "<matplotlib.axes._subplots.AxesSubplot at 0x7f893ba53640>"
      ]
     },
     "execution_count": 69,
     "metadata": {},
     "output_type": "execute_result"
    },
    {
     "data": {
      "image/png": "[encoded data removed]",
      "text/plain": [
       "<Figure size 432x288 with 1 Axes>"
      ]
     },
     "metadata": {
      "needs_background": "light"
     },
     "output_type": "display_data"
    }
   ],
   "source": [
    "sns.barplot(y=grop_df['average_revenue'],x=grop_df['Quater'],palette=\"rocket\")"
   ]
  },
  {
   "cell_type": "markdown",
   "metadata": {},
   "source": [
    "#### We can see there is a drop in revenue from quater 3 to quarter 4\n",
    "#### We can see a similar trend in new adds and average active adds"
   ]
  },
  {
   "cell_type": "code",
   "execution_count": 70,
   "metadata": {},
   "outputs": [
    {
     "data": {
      "text/html": [
       "<div>\n",
       "<style scoped>\n",
       "    .dataframe tbody tr th:only-of-type {\n",
       "        vertical-align: middle;\n",
       "    }\n",
       "\n",
       "    .dataframe tbody tr th {\n",
       "        vertical-align: top;\n",
       "    }\n",
       "\n",
       "    .dataframe thead th {\n",
       "        text-align: right;\n",
       "    }\n",
       "</style>\n",
       "<table border=\"1\" class=\"dataframe\">\n",
       "  <thead>\n",
       "    <tr style=\"text-align: right;\">\n",
       "      <th></th>\n",
       "      <th>user_id</th>\n",
       "      <th>max_return_days</th>\n",
       "      <th>average_return_days</th>\n",
       "      <th>customer_since_months</th>\n",
       "      <th>total_revenue</th>\n",
       "      <th>average_revenue</th>\n",
       "      <th>avg_vas_count</th>\n",
       "      <th>avg_used_vas_value</th>\n",
       "      <th>avg_wallet_bonus</th>\n",
       "      <th>avg_active_ads</th>\n",
       "      <th>avg_new_ads</th>\n",
       "      <th>avg_email_replies</th>\n",
       "      <th>avg_call_replies</th>\n",
       "      <th>avg_sms_replies</th>\n",
       "      <th>target</th>\n",
       "      <th>Quater</th>\n",
       "    </tr>\n",
       "  </thead>\n",
       "  <tbody>\n",
       "    <tr>\n",
       "      <th>0</th>\n",
       "      <td>410039</td>\n",
       "      <td>8</td>\n",
       "      <td>1.500000</td>\n",
       "      <td>14</td>\n",
       "      <td>0.0</td>\n",
       "      <td>0.0</td>\n",
       "      <td>3.666667</td>\n",
       "      <td>66.666667</td>\n",
       "      <td>300.0</td>\n",
       "      <td>79.333333</td>\n",
       "      <td>15.250000</td>\n",
       "      <td>32.416667</td>\n",
       "      <td>27.916667</td>\n",
       "      <td>0.250000</td>\n",
       "      <td>0</td>\n",
       "      <td>4</td>\n",
       "    </tr>\n",
       "    <tr>\n",
       "      <th>1</th>\n",
       "      <td>410240</td>\n",
       "      <td>37</td>\n",
       "      <td>8.200000</td>\n",
       "      <td>10</td>\n",
       "      <td>0.0</td>\n",
       "      <td>0.0</td>\n",
       "      <td>4.900000</td>\n",
       "      <td>114.000000</td>\n",
       "      <td>0.0</td>\n",
       "      <td>232.100000</td>\n",
       "      <td>18.300000</td>\n",
       "      <td>16.200000</td>\n",
       "      <td>13.800000</td>\n",
       "      <td>0.000000</td>\n",
       "      <td>0</td>\n",
       "      <td>3</td>\n",
       "    </tr>\n",
       "    <tr>\n",
       "      <th>2</th>\n",
       "      <td>411764</td>\n",
       "      <td>9</td>\n",
       "      <td>1.533333</td>\n",
       "      <td>15</td>\n",
       "      <td>0.0</td>\n",
       "      <td>0.0</td>\n",
       "      <td>5.333333</td>\n",
       "      <td>106.666667</td>\n",
       "      <td>150.0</td>\n",
       "      <td>55.083333</td>\n",
       "      <td>3.750000</td>\n",
       "      <td>20.250000</td>\n",
       "      <td>24.500000</td>\n",
       "      <td>0.000000</td>\n",
       "      <td>0</td>\n",
       "      <td>4</td>\n",
       "    </tr>\n",
       "    <tr>\n",
       "      <th>3</th>\n",
       "      <td>411985</td>\n",
       "      <td>1</td>\n",
       "      <td>1.000000</td>\n",
       "      <td>14</td>\n",
       "      <td>0.0</td>\n",
       "      <td>0.0</td>\n",
       "      <td>6.307692</td>\n",
       "      <td>176.153846</td>\n",
       "      <td>1481.0</td>\n",
       "      <td>409.538462</td>\n",
       "      <td>80.769231</td>\n",
       "      <td>87.461538</td>\n",
       "      <td>57.615385</td>\n",
       "      <td>0.000000</td>\n",
       "      <td>1</td>\n",
       "      <td>4</td>\n",
       "    </tr>\n",
       "    <tr>\n",
       "      <th>4</th>\n",
       "      <td>412071</td>\n",
       "      <td>1</td>\n",
       "      <td>1.000000</td>\n",
       "      <td>18</td>\n",
       "      <td>0.0</td>\n",
       "      <td>0.0</td>\n",
       "      <td>5.846154</td>\n",
       "      <td>109.230769</td>\n",
       "      <td>41.5</td>\n",
       "      <td>48.230769</td>\n",
       "      <td>1.692308</td>\n",
       "      <td>17.461538</td>\n",
       "      <td>25.769231</td>\n",
       "      <td>0.230769</td>\n",
       "      <td>0</td>\n",
       "      <td>5</td>\n",
       "    </tr>\n",
       "  </tbody>\n",
       "</table>\n",
       "</div>"
      ],
      "text/plain": [
       "   user_id  max_return_days  average_return_days  customer_since_months  \\\n",
       "0   410039                8             1.500000                     14   \n",
       "1   410240               37             8.200000                     10   \n",
       "2   411764                9             1.533333                     15   \n",
       "3   411985                1             1.000000                     14   \n",
       "4   412071                1             1.000000                     18   \n",
       "\n",
       "   total_revenue  average_revenue  avg_vas_count  avg_used_vas_value  \\\n",
       "0            0.0              0.0       3.666667           66.666667   \n",
       "1            0.0              0.0       4.900000          114.000000   \n",
       "2            0.0              0.0       5.333333          106.666667   \n",
       "3            0.0              0.0       6.307692          176.153846   \n",
       "4            0.0              0.0       5.846154          109.230769   \n",
       "\n",
       "   avg_wallet_bonus  avg_active_ads  avg_new_ads  avg_email_replies  \\\n",
       "0             300.0       79.333333    15.250000          32.416667   \n",
       "1               0.0      232.100000    18.300000          16.200000   \n",
       "2             150.0       55.083333     3.750000          20.250000   \n",
       "3            1481.0      409.538462    80.769231          87.461538   \n",
       "4              41.5       48.230769     1.692308          17.461538   \n",
       "\n",
       "   avg_call_replies  avg_sms_replies  target  Quater  \n",
       "0         27.916667         0.250000       0       4  \n",
       "1         13.800000         0.000000       0       3  \n",
       "2         24.500000         0.000000       0       4  \n",
       "3         57.615385         0.000000       1       4  \n",
       "4         25.769231         0.230769       0       5  "
      ]
     },
     "execution_count": 70,
     "metadata": {},
     "output_type": "execute_result"
    }
   ],
   "source": [
    "target_df = df\n",
    "target_df= target_df.drop(['account_id','business_type'],axis='columns')\n",
    "\n",
    "target_df.head()"
   ]
  },
  {
   "cell_type": "code",
   "execution_count": 71,
   "metadata": {
    "scrolled": true
   },
   "outputs": [
    {
     "data": {
      "text/plain": [
       "<matplotlib.axes._subplots.AxesSubplot at 0x7f893bc3e850>"
      ]
     },
     "execution_count": 71,
     "metadata": {},
     "output_type": "execute_result"
    },
    {
     "data": {
      "image/png": "[encoded data removed]",
      "text/plain": [
       "<Figure size 576x216 with 1 Axes>"
      ]
     },
     "metadata": {
      "needs_background": "light"
     },
     "output_type": "display_data"
    }
   ],
   "source": [
    "plt.figure(figsize=(8,3))\n",
    "target_df.corr()['target'].drop('target').sort_values().plot(kind='bar')"
   ]
  },
  {
   "cell_type": "markdown",
   "metadata": {},
   "source": [
    "#### We can see that return days has a positive correlation with the Target variable \n",
    "#### Concluding that the more older the customer is , he/she returns more often and are more likely to stay."
   ]
  },
  {
   "cell_type": "markdown",
   "metadata": {},
   "source": [
    "#### From above we infer that we are not making any revenue from customers of buisness type 2 irrespective of if they are staying or not\n",
    "#### We are making maximum average revenue from the customers of business 5,3 from which we are not retaning customers of business 3 so this might be source of our loss"
   ]
  },
  {
   "cell_type": "code",
   "execution_count": 72,
   "metadata": {},
   "outputs": [
    {
     "data": {
      "text/plain": [
       "array([0, 3, 5, 1, 4, 2])"
      ]
     },
     "execution_count": 72,
     "metadata": {},
     "output_type": "execute_result"
    }
   ],
   "source": [
    "df['business_type'].unique()"
   ]
  },
  {
   "cell_type": "code",
   "execution_count": 73,
   "metadata": {},
   "outputs": [],
   "source": [
    "df1 = df.groupby(df['business_type']).mean()[['total_revenue','average_revenue']].reset_index()"
   ]
  },
  {
   "cell_type": "code",
   "execution_count": 74,
   "metadata": {},
   "outputs": [
    {
     "data": {
      "text/html": [
       "<div>\n",
       "<style scoped>\n",
       "    .dataframe tbody tr th:only-of-type {\n",
       "        vertical-align: middle;\n",
       "    }\n",
       "\n",
       "    .dataframe tbody tr th {\n",
       "        vertical-align: top;\n",
       "    }\n",
       "\n",
       "    .dataframe thead th {\n",
       "        text-align: right;\n",
       "    }\n",
       "</style>\n",
       "<table border=\"1\" class=\"dataframe\">\n",
       "  <thead>\n",
       "    <tr style=\"text-align: right;\">\n",
       "      <th></th>\n",
       "      <th>business_type</th>\n",
       "      <th>total_revenue</th>\n",
       "      <th>average_revenue</th>\n",
       "    </tr>\n",
       "  </thead>\n",
       "  <tbody>\n",
       "    <tr>\n",
       "      <th>0</th>\n",
       "      <td>0</td>\n",
       "      <td>220.136856</td>\n",
       "      <td>18.149241</td>\n",
       "    </tr>\n",
       "    <tr>\n",
       "      <th>1</th>\n",
       "      <td>1</td>\n",
       "      <td>61.012455</td>\n",
       "      <td>7.343402</td>\n",
       "    </tr>\n",
       "    <tr>\n",
       "      <th>2</th>\n",
       "      <td>2</td>\n",
       "      <td>0.000000</td>\n",
       "      <td>0.000000</td>\n",
       "    </tr>\n",
       "    <tr>\n",
       "      <th>3</th>\n",
       "      <td>3</td>\n",
       "      <td>133.656032</td>\n",
       "      <td>19.479363</td>\n",
       "    </tr>\n",
       "    <tr>\n",
       "      <th>4</th>\n",
       "      <td>4</td>\n",
       "      <td>38.988737</td>\n",
       "      <td>9.523449</td>\n",
       "    </tr>\n",
       "  </tbody>\n",
       "</table>\n",
       "</div>"
      ],
      "text/plain": [
       "   business_type  total_revenue  average_revenue\n",
       "0              0     220.136856        18.149241\n",
       "1              1      61.012455         7.343402\n",
       "2              2       0.000000         0.000000\n",
       "3              3     133.656032        19.479363\n",
       "4              4      38.988737         9.523449"
      ]
     },
     "execution_count": 74,
     "metadata": {},
     "output_type": "execute_result"
    }
   ],
   "source": [
    "df1.head()"
   ]
  },
  {
   "cell_type": "code",
   "execution_count": 75,
   "metadata": {},
   "outputs": [],
   "source": [
    "#### considering only customers with positive revenue.####"
   ]
  },
  {
   "cell_type": "code",
   "execution_count": 76,
   "metadata": {},
   "outputs": [],
   "source": [
    "df2 = df[df['total_revenue']>0].groupby(df['business_type']).mean()[['total_revenue','average_revenue']].reset_index()"
   ]
  },
  {
   "cell_type": "code",
   "execution_count": 77,
   "metadata": {
    "scrolled": false
   },
   "outputs": [
    {
     "data": {
      "text/html": [
       "<div>\n",
       "<style scoped>\n",
       "    .dataframe tbody tr th:only-of-type {\n",
       "        vertical-align: middle;\n",
       "    }\n",
       "\n",
       "    .dataframe tbody tr th {\n",
       "        vertical-align: top;\n",
       "    }\n",
       "\n",
       "    .dataframe thead th {\n",
       "        text-align: right;\n",
       "    }\n",
       "</style>\n",
       "<table border=\"1\" class=\"dataframe\">\n",
       "  <thead>\n",
       "    <tr style=\"text-align: right;\">\n",
       "      <th></th>\n",
       "      <th>business_type</th>\n",
       "      <th>total_revenue</th>\n",
       "      <th>average_revenue</th>\n",
       "    </tr>\n",
       "  </thead>\n",
       "  <tbody>\n",
       "    <tr>\n",
       "      <th>2</th>\n",
       "      <td>3</td>\n",
       "      <td>1477.641689</td>\n",
       "      <td>215.355177</td>\n",
       "    </tr>\n",
       "    <tr>\n",
       "      <th>3</th>\n",
       "      <td>4</td>\n",
       "      <td>675.804767</td>\n",
       "      <td>165.073113</td>\n",
       "    </tr>\n",
       "    <tr>\n",
       "      <th>0</th>\n",
       "      <td>0</td>\n",
       "      <td>1664.426052</td>\n",
       "      <td>137.224042</td>\n",
       "    </tr>\n",
       "    <tr>\n",
       "      <th>4</th>\n",
       "      <td>5</td>\n",
       "      <td>1151.340559</td>\n",
       "      <td>131.568927</td>\n",
       "    </tr>\n",
       "    <tr>\n",
       "      <th>1</th>\n",
       "      <td>1</td>\n",
       "      <td>449.720835</td>\n",
       "      <td>54.127982</td>\n",
       "    </tr>\n",
       "  </tbody>\n",
       "</table>\n",
       "</div>"
      ],
      "text/plain": [
       "   business_type  total_revenue  average_revenue\n",
       "2              3    1477.641689       215.355177\n",
       "3              4     675.804767       165.073113\n",
       "0              0    1664.426052       137.224042\n",
       "4              5    1151.340559       131.568927\n",
       "1              1     449.720835        54.127982"
      ]
     },
     "execution_count": 77,
     "metadata": {},
     "output_type": "execute_result"
    }
   ],
   "source": [
    "df2.sort_values(by= 'average_revenue',ascending=False)"
   ]
  },
  {
   "cell_type": "code",
   "execution_count": 78,
   "metadata": {},
   "outputs": [],
   "source": [
    "### max Average Revenue from Business type 3 ####"
   ]
  },
  {
   "cell_type": "code",
   "execution_count": 79,
   "metadata": {},
   "outputs": [
    {
     "data": {
      "text/plain": [
       "0    3478\n",
       "1     457\n",
       "3     199\n",
       "5     165\n",
       "4      52\n",
       "2      49\n",
       "Name: business_type, dtype: int64"
      ]
     },
     "execution_count": 79,
     "metadata": {},
     "output_type": "execute_result"
    }
   ],
   "source": [
    "df['business_type'].value_counts()"
   ]
  },
  {
   "cell_type": "code",
   "execution_count": 80,
   "metadata": {},
   "outputs": [
    {
     "data": {
      "text/plain": [
       "4400"
      ]
     },
     "execution_count": 80,
     "metadata": {},
     "output_type": "execute_result"
    }
   ],
   "source": [
    "df['business_type'].count()"
   ]
  },
  {
   "cell_type": "code",
   "execution_count": 81,
   "metadata": {
    "scrolled": false
   },
   "outputs": [
    {
     "data": {
      "text/plain": [
       "<matplotlib.axes._subplots.AxesSubplot at 0x7f893a272550>"
      ]
     },
     "execution_count": 81,
     "metadata": {},
     "output_type": "execute_result"
    },
    {
     "data": {
      "image/png": "[encoded data removed]",
      "text/plain": [
       "<Figure size 432x288 with 1 Axes>"
      ]
     },
     "metadata": {
      "needs_background": "light"
     },
     "output_type": "display_data"
    }
   ],
   "source": [
    "sns.countplot(x= 'business_type', data = df)"
   ]
  },
  {
   "cell_type": "code",
   "execution_count": 82,
   "metadata": {},
   "outputs": [
    {
     "data": {
      "text/plain": [
       "0.7904545454545454"
      ]
     },
     "execution_count": 82,
     "metadata": {},
     "output_type": "execute_result"
    }
   ],
   "source": [
    "3478/4400"
   ]
  },
  {
   "cell_type": "code",
   "execution_count": 83,
   "metadata": {},
   "outputs": [],
   "source": [
    "###   79% customers are from business type 0  ###"
   ]
  },
  {
   "cell_type": "code",
   "execution_count": 84,
   "metadata": {},
   "outputs": [
    {
     "data": {
      "text/plain": [
       "<matplotlib.axes._subplots.AxesSubplot at 0x7f893a387a30>"
      ]
     },
     "execution_count": 84,
     "metadata": {},
     "output_type": "execute_result"
    },
    {
     "data": {
      "image/png": "[encoded data removed]",
      "text/plain": [
       "<Figure size 432x288 with 1 Axes>"
      ]
     },
     "metadata": {
      "needs_background": "light"
     },
     "output_type": "display_data"
    }
   ],
   "source": [
    "df1.plot(kind='bar',x='business_type',y='total_revenue') \n",
    "### all customers are considered ####"
   ]
  },
  {
   "cell_type": "code",
   "execution_count": 85,
   "metadata": {},
   "outputs": [
    {
     "data": {
      "text/plain": [
       "<matplotlib.axes._subplots.AxesSubplot at 0x7f893a80dc70>"
      ]
     },
     "execution_count": 85,
     "metadata": {},
     "output_type": "execute_result"
    },
    {
     "data": {
      "image/png": "[encoded data removed]",
      "text/plain": [
       "<Figure size 432x288 with 1 Axes>"
      ]
     },
     "metadata": {
      "needs_background": "light"
     },
     "output_type": "display_data"
    }
   ],
   "source": [
    "df2.plot(kind='bar',x='business_type',y='average_revenue',) \n",
    "#### Considering customers which provides positive revenue ####"
   ]
  },
  {
   "cell_type": "code",
   "execution_count": 86,
   "metadata": {},
   "outputs": [],
   "source": [
    "### maximum total revenue is from business type 0, \n",
    "\n",
    "### Considering revenue generating customers maximum average revenue is from business type 3 \n",
    "### Customer from 3,4 business types should be targeted, schemes and bonuses should be given for customer retainment."
   ]
  },
  {
   "cell_type": "code",
   "execution_count": 87,
   "metadata": {},
   "outputs": [
    {
     "data": {
      "text/html": [
       "<div>\n",
       "<style scoped>\n",
       "    .dataframe tbody tr th:only-of-type {\n",
       "        vertical-align: middle;\n",
       "    }\n",
       "\n",
       "    .dataframe tbody tr th {\n",
       "        vertical-align: top;\n",
       "    }\n",
       "\n",
       "    .dataframe thead th {\n",
       "        text-align: right;\n",
       "    }\n",
       "</style>\n",
       "<table border=\"1\" class=\"dataframe\">\n",
       "  <thead>\n",
       "    <tr style=\"text-align: right;\">\n",
       "      <th></th>\n",
       "      <th>user_id</th>\n",
       "      <th>account_id</th>\n",
       "      <th>max_return_days</th>\n",
       "      <th>average_return_days</th>\n",
       "      <th>customer_since_months</th>\n",
       "      <th>total_revenue</th>\n",
       "      <th>average_revenue</th>\n",
       "      <th>avg_vas_count</th>\n",
       "      <th>avg_used_vas_value</th>\n",
       "      <th>business_type</th>\n",
       "      <th>avg_wallet_bonus</th>\n",
       "      <th>avg_active_ads</th>\n",
       "      <th>avg_new_ads</th>\n",
       "      <th>avg_email_replies</th>\n",
       "      <th>avg_call_replies</th>\n",
       "      <th>avg_sms_replies</th>\n",
       "      <th>Quater</th>\n",
       "    </tr>\n",
       "    <tr>\n",
       "      <th>target</th>\n",
       "      <th></th>\n",
       "      <th></th>\n",
       "      <th></th>\n",
       "      <th></th>\n",
       "      <th></th>\n",
       "      <th></th>\n",
       "      <th></th>\n",
       "      <th></th>\n",
       "      <th></th>\n",
       "      <th></th>\n",
       "      <th></th>\n",
       "      <th></th>\n",
       "      <th></th>\n",
       "      <th></th>\n",
       "      <th></th>\n",
       "      <th></th>\n",
       "      <th></th>\n",
       "    </tr>\n",
       "  </thead>\n",
       "  <tbody>\n",
       "    <tr>\n",
       "      <th>0</th>\n",
       "      <td>6.841803e+08</td>\n",
       "      <td>493.0</td>\n",
       "      <td>2.0</td>\n",
       "      <td>1.071429</td>\n",
       "      <td>13.0</td>\n",
       "      <td>0.0</td>\n",
       "      <td>0.0</td>\n",
       "      <td>2.250000</td>\n",
       "      <td>50.357143</td>\n",
       "      <td>0.0</td>\n",
       "      <td>70.0</td>\n",
       "      <td>41.519231</td>\n",
       "      <td>6.392308</td>\n",
       "      <td>13.500000</td>\n",
       "      <td>14.118056</td>\n",
       "      <td>0.0</td>\n",
       "      <td>4.0</td>\n",
       "    </tr>\n",
       "    <tr>\n",
       "      <th>1</th>\n",
       "      <td>7.224663e+09</td>\n",
       "      <td>499.0</td>\n",
       "      <td>13.0</td>\n",
       "      <td>5.358974</td>\n",
       "      <td>5.0</td>\n",
       "      <td>0.0</td>\n",
       "      <td>0.0</td>\n",
       "      <td>0.645833</td>\n",
       "      <td>13.095238</td>\n",
       "      <td>0.0</td>\n",
       "      <td>0.0</td>\n",
       "      <td>26.100000</td>\n",
       "      <td>6.198718</td>\n",
       "      <td>5.759615</td>\n",
       "      <td>5.535714</td>\n",
       "      <td>0.0</td>\n",
       "      <td>2.0</td>\n",
       "    </tr>\n",
       "  </tbody>\n",
       "</table>\n",
       "</div>"
      ],
      "text/plain": [
       "             user_id  account_id  max_return_days  average_return_days  \\\n",
       "target                                                                   \n",
       "0       6.841803e+08       493.0              2.0             1.071429   \n",
       "1       7.224663e+09       499.0             13.0             5.358974   \n",
       "\n",
       "        customer_since_months  total_revenue  average_revenue  avg_vas_count  \\\n",
       "target                                                                         \n",
       "0                        13.0            0.0              0.0       2.250000   \n",
       "1                         5.0            0.0              0.0       0.645833   \n",
       "\n",
       "        avg_used_vas_value  business_type  avg_wallet_bonus  avg_active_ads  \\\n",
       "target                                                                        \n",
       "0                50.357143            0.0              70.0       41.519231   \n",
       "1                13.095238            0.0               0.0       26.100000   \n",
       "\n",
       "        avg_new_ads  avg_email_replies  avg_call_replies  avg_sms_replies  \\\n",
       "target                                                                      \n",
       "0          6.392308          13.500000         14.118056              0.0   \n",
       "1          6.198718           5.759615          5.535714              0.0   \n",
       "\n",
       "        Quater  \n",
       "target          \n",
       "0          4.0  \n",
       "1          2.0  "
      ]
     },
     "execution_count": 87,
     "metadata": {},
     "output_type": "execute_result"
    }
   ],
   "source": [
    "df.groupby(df['target']).median()"
   ]
  },
  {
   "cell_type": "code",
   "execution_count": 88,
   "metadata": {},
   "outputs": [
    {
     "data": {
      "text/html": [
       "<div>\n",
       "<style scoped>\n",
       "    .dataframe tbody tr th:only-of-type {\n",
       "        vertical-align: middle;\n",
       "    }\n",
       "\n",
       "    .dataframe tbody tr th {\n",
       "        vertical-align: top;\n",
       "    }\n",
       "\n",
       "    .dataframe thead th {\n",
       "        text-align: right;\n",
       "    }\n",
       "</style>\n",
       "<table border=\"1\" class=\"dataframe\">\n",
       "  <thead>\n",
       "    <tr style=\"text-align: right;\">\n",
       "      <th></th>\n",
       "      <th>user_id</th>\n",
       "      <th>account_id</th>\n",
       "      <th>max_return_days</th>\n",
       "      <th>average_return_days</th>\n",
       "      <th>customer_since_months</th>\n",
       "      <th>total_revenue</th>\n",
       "      <th>average_revenue</th>\n",
       "      <th>avg_vas_count</th>\n",
       "      <th>avg_used_vas_value</th>\n",
       "      <th>business_type</th>\n",
       "      <th>avg_wallet_bonus</th>\n",
       "      <th>avg_active_ads</th>\n",
       "      <th>avg_new_ads</th>\n",
       "      <th>avg_email_replies</th>\n",
       "      <th>avg_call_replies</th>\n",
       "      <th>avg_sms_replies</th>\n",
       "      <th>Quater</th>\n",
       "    </tr>\n",
       "    <tr>\n",
       "      <th>target</th>\n",
       "      <th></th>\n",
       "      <th></th>\n",
       "      <th></th>\n",
       "      <th></th>\n",
       "      <th></th>\n",
       "      <th></th>\n",
       "      <th></th>\n",
       "      <th></th>\n",
       "      <th></th>\n",
       "      <th></th>\n",
       "      <th></th>\n",
       "      <th></th>\n",
       "      <th></th>\n",
       "      <th></th>\n",
       "      <th></th>\n",
       "      <th></th>\n",
       "      <th></th>\n",
       "    </tr>\n",
       "  </thead>\n",
       "  <tbody>\n",
       "    <tr>\n",
       "      <th>0</th>\n",
       "      <td>3.995003e+09</td>\n",
       "      <td>493.068677</td>\n",
       "      <td>18.286873</td>\n",
       "      <td>6.091717</td>\n",
       "      <td>10.296503</td>\n",
       "      <td>211.561710</td>\n",
       "      <td>18.073397</td>\n",
       "      <td>3.472902</td>\n",
       "      <td>77.318343</td>\n",
       "      <td>0.494171</td>\n",
       "      <td>360.973839</td>\n",
       "      <td>101.198003</td>\n",
       "      <td>16.432441</td>\n",
       "      <td>27.038121</td>\n",
       "      <td>29.214592</td>\n",
       "      <td>0.173216</td>\n",
       "      <td>3.005575</td>\n",
       "    </tr>\n",
       "    <tr>\n",
       "      <th>1</th>\n",
       "      <td>5.072594e+09</td>\n",
       "      <td>623.762115</td>\n",
       "      <td>57.786344</td>\n",
       "      <td>16.586245</td>\n",
       "      <td>6.303965</td>\n",
       "      <td>45.616763</td>\n",
       "      <td>7.375511</td>\n",
       "      <td>1.349967</td>\n",
       "      <td>27.879469</td>\n",
       "      <td>0.517621</td>\n",
       "      <td>150.911432</td>\n",
       "      <td>79.826392</td>\n",
       "      <td>19.692925</td>\n",
       "      <td>14.176786</td>\n",
       "      <td>14.105809</td>\n",
       "      <td>0.067096</td>\n",
       "      <td>1.973568</td>\n",
       "    </tr>\n",
       "  </tbody>\n",
       "</table>\n",
       "</div>"
      ],
      "text/plain": [
       "             user_id  account_id  max_return_days  average_return_days  \\\n",
       "target                                                                   \n",
       "0       3.995003e+09  493.068677        18.286873             6.091717   \n",
       "1       5.072594e+09  623.762115        57.786344            16.586245   \n",
       "\n",
       "        customer_since_months  total_revenue  average_revenue  avg_vas_count  \\\n",
       "target                                                                         \n",
       "0                   10.296503     211.561710        18.073397       3.472902   \n",
       "1                    6.303965      45.616763         7.375511       1.349967   \n",
       "\n",
       "        avg_used_vas_value  business_type  avg_wallet_bonus  avg_active_ads  \\\n",
       "target                                                                        \n",
       "0                77.318343       0.494171        360.973839      101.198003   \n",
       "1                27.879469       0.517621        150.911432       79.826392   \n",
       "\n",
       "        avg_new_ads  avg_email_replies  avg_call_replies  avg_sms_replies  \\\n",
       "target                                                                      \n",
       "0         16.432441          27.038121         29.214592         0.173216   \n",
       "1         19.692925          14.176786         14.105809         0.067096   \n",
       "\n",
       "          Quater  \n",
       "target            \n",
       "0       3.005575  \n",
       "1       1.973568  "
      ]
     },
     "execution_count": 88,
     "metadata": {},
     "output_type": "execute_result"
    }
   ],
   "source": [
    "df.groupby(df['target']).mean()"
   ]
  },
  {
   "cell_type": "code",
   "execution_count": 89,
   "metadata": {},
   "outputs": [],
   "source": [
    "df6 = df.groupby(df['customer_since_months']).mean().reset_index()"
   ]
  },
  {
   "cell_type": "code",
   "execution_count": 90,
   "metadata": {},
   "outputs": [
    {
     "data": {
      "text/html": [
       "<div>\n",
       "<style scoped>\n",
       "    .dataframe tbody tr th:only-of-type {\n",
       "        vertical-align: middle;\n",
       "    }\n",
       "\n",
       "    .dataframe tbody tr th {\n",
       "        vertical-align: top;\n",
       "    }\n",
       "\n",
       "    .dataframe thead th {\n",
       "        text-align: right;\n",
       "    }\n",
       "</style>\n",
       "<table border=\"1\" class=\"dataframe\">\n",
       "  <thead>\n",
       "    <tr style=\"text-align: right;\">\n",
       "      <th></th>\n",
       "      <th>customer_since_months</th>\n",
       "      <th>user_id</th>\n",
       "      <th>account_id</th>\n",
       "      <th>max_return_days</th>\n",
       "      <th>average_return_days</th>\n",
       "      <th>total_revenue</th>\n",
       "      <th>average_revenue</th>\n",
       "      <th>avg_vas_count</th>\n",
       "      <th>avg_used_vas_value</th>\n",
       "      <th>business_type</th>\n",
       "      <th>avg_wallet_bonus</th>\n",
       "      <th>avg_active_ads</th>\n",
       "      <th>avg_new_ads</th>\n",
       "      <th>avg_email_replies</th>\n",
       "      <th>avg_call_replies</th>\n",
       "      <th>avg_sms_replies</th>\n",
       "      <th>target</th>\n",
       "      <th>Quater</th>\n",
       "    </tr>\n",
       "  </thead>\n",
       "  <tbody>\n",
       "    <tr>\n",
       "      <th>0</th>\n",
       "      <td>1</td>\n",
       "      <td>6.110782e+09</td>\n",
       "      <td>363.720000</td>\n",
       "      <td>7.225000</td>\n",
       "      <td>7.225000</td>\n",
       "      <td>2.554913</td>\n",
       "      <td>2.554913</td>\n",
       "      <td>0.895000</td>\n",
       "      <td>16.850000</td>\n",
       "      <td>1.150000</td>\n",
       "      <td>0.000000</td>\n",
       "      <td>27.415000</td>\n",
       "      <td>14.760000</td>\n",
       "      <td>7.505000</td>\n",
       "      <td>8.065000</td>\n",
       "      <td>0.050000</td>\n",
       "      <td>0.000000</td>\n",
       "      <td>1.0</td>\n",
       "    </tr>\n",
       "    <tr>\n",
       "      <th>1</th>\n",
       "      <td>2</td>\n",
       "      <td>5.828942e+09</td>\n",
       "      <td>515.471698</td>\n",
       "      <td>12.738544</td>\n",
       "      <td>12.734501</td>\n",
       "      <td>10.897369</td>\n",
       "      <td>8.314955</td>\n",
       "      <td>0.570081</td>\n",
       "      <td>12.115903</td>\n",
       "      <td>0.805930</td>\n",
       "      <td>2.830189</td>\n",
       "      <td>37.039084</td>\n",
       "      <td>15.132075</td>\n",
       "      <td>9.039084</td>\n",
       "      <td>9.173854</td>\n",
       "      <td>0.080863</td>\n",
       "      <td>0.118598</td>\n",
       "      <td>1.0</td>\n",
       "    </tr>\n",
       "    <tr>\n",
       "      <th>2</th>\n",
       "      <td>3</td>\n",
       "      <td>5.346587e+09</td>\n",
       "      <td>560.903226</td>\n",
       "      <td>39.532258</td>\n",
       "      <td>20.388441</td>\n",
       "      <td>23.528156</td>\n",
       "      <td>6.386080</td>\n",
       "      <td>1.348118</td>\n",
       "      <td>26.294355</td>\n",
       "      <td>0.927419</td>\n",
       "      <td>8.570565</td>\n",
       "      <td>37.191196</td>\n",
       "      <td>12.547648</td>\n",
       "      <td>11.094691</td>\n",
       "      <td>10.888710</td>\n",
       "      <td>0.069220</td>\n",
       "      <td>0.379032</td>\n",
       "      <td>1.0</td>\n",
       "    </tr>\n",
       "    <tr>\n",
       "      <th>3</th>\n",
       "      <td>4</td>\n",
       "      <td>5.495483e+09</td>\n",
       "      <td>578.454545</td>\n",
       "      <td>44.409091</td>\n",
       "      <td>15.444444</td>\n",
       "      <td>3.440469</td>\n",
       "      <td>0.907327</td>\n",
       "      <td>1.304966</td>\n",
       "      <td>26.178451</td>\n",
       "      <td>0.883838</td>\n",
       "      <td>23.032828</td>\n",
       "      <td>45.897222</td>\n",
       "      <td>12.023232</td>\n",
       "      <td>18.546296</td>\n",
       "      <td>20.829545</td>\n",
       "      <td>0.176936</td>\n",
       "      <td>0.242424</td>\n",
       "      <td>1.0</td>\n",
       "    </tr>\n",
       "    <tr>\n",
       "      <th>4</th>\n",
       "      <td>5</td>\n",
       "      <td>5.306577e+09</td>\n",
       "      <td>671.489130</td>\n",
       "      <td>56.755435</td>\n",
       "      <td>17.454348</td>\n",
       "      <td>67.329177</td>\n",
       "      <td>14.363144</td>\n",
       "      <td>1.408113</td>\n",
       "      <td>30.446105</td>\n",
       "      <td>0.766304</td>\n",
       "      <td>48.847826</td>\n",
       "      <td>49.255474</td>\n",
       "      <td>13.340981</td>\n",
       "      <td>12.842126</td>\n",
       "      <td>11.911400</td>\n",
       "      <td>0.045160</td>\n",
       "      <td>0.353261</td>\n",
       "      <td>2.0</td>\n",
       "    </tr>\n",
       "  </tbody>\n",
       "</table>\n",
       "</div>"
      ],
      "text/plain": [
       "   customer_since_months       user_id  account_id  max_return_days  \\\n",
       "0                      1  6.110782e+09  363.720000         7.225000   \n",
       "1                      2  5.828942e+09  515.471698        12.738544   \n",
       "2                      3  5.346587e+09  560.903226        39.532258   \n",
       "3                      4  5.495483e+09  578.454545        44.409091   \n",
       "4                      5  5.306577e+09  671.489130        56.755435   \n",
       "\n",
       "   average_return_days  total_revenue  average_revenue  avg_vas_count  \\\n",
       "0             7.225000       2.554913         2.554913       0.895000   \n",
       "1            12.734501      10.897369         8.314955       0.570081   \n",
       "2            20.388441      23.528156         6.386080       1.348118   \n",
       "3            15.444444       3.440469         0.907327       1.304966   \n",
       "4            17.454348      67.329177        14.363144       1.408113   \n",
       "\n",
       "   avg_used_vas_value  business_type  avg_wallet_bonus  avg_active_ads  \\\n",
       "0           16.850000       1.150000          0.000000       27.415000   \n",
       "1           12.115903       0.805930          2.830189       37.039084   \n",
       "2           26.294355       0.927419          8.570565       37.191196   \n",
       "3           26.178451       0.883838         23.032828       45.897222   \n",
       "4           30.446105       0.766304         48.847826       49.255474   \n",
       "\n",
       "   avg_new_ads  avg_email_replies  avg_call_replies  avg_sms_replies  \\\n",
       "0    14.760000           7.505000          8.065000         0.050000   \n",
       "1    15.132075           9.039084          9.173854         0.080863   \n",
       "2    12.547648          11.094691         10.888710         0.069220   \n",
       "3    12.023232          18.546296         20.829545         0.176936   \n",
       "4    13.340981          12.842126         11.911400         0.045160   \n",
       "\n",
       "     target  Quater  \n",
       "0  0.000000     1.0  \n",
       "1  0.118598     1.0  \n",
       "2  0.379032     1.0  \n",
       "3  0.242424     1.0  \n",
       "4  0.353261     2.0  "
      ]
     },
     "execution_count": 90,
     "metadata": {},
     "output_type": "execute_result"
    }
   ],
   "source": [
    "df6.head()"
   ]
  },
  {
   "cell_type": "code",
   "execution_count": 91,
   "metadata": {},
   "outputs": [
    {
     "data": {
      "text/plain": [
       "customer_since_months\n",
       "1     200\n",
       "2     371\n",
       "3     248\n",
       "4     198\n",
       "5     184\n",
       "6     195\n",
       "7     169\n",
       "8     157\n",
       "9     132\n",
       "10    145\n",
       "11    162\n",
       "12    171\n",
       "13    598\n",
       "14    635\n",
       "15    486\n",
       "16    131\n",
       "17     45\n",
       "18    127\n",
       "19     29\n",
       "20      8\n",
       "21      4\n",
       "23      3\n",
       "24      2\n",
       "Name: user_id, dtype: int64"
      ]
     },
     "execution_count": 91,
     "metadata": {},
     "output_type": "execute_result"
    }
   ],
   "source": [
    "df.groupby(df['customer_since_months']).count()['user_id']"
   ]
  },
  {
   "cell_type": "code",
   "execution_count": 92,
   "metadata": {},
   "outputs": [],
   "source": [
    "df5 = df[df['customer_since_months']<19]"
   ]
  },
  {
   "cell_type": "code",
   "execution_count": 93,
   "metadata": {},
   "outputs": [
    {
     "data": {
      "text/plain": [
       "<matplotlib.axes._subplots.AxesSubplot at 0x7f8939801160>"
      ]
     },
     "execution_count": 93,
     "metadata": {},
     "output_type": "execute_result"
    },
    {
     "data": {
      "image/png": "[encoded data removed]",
      "text/plain": [
       "<Figure size 432x288 with 1 Axes>"
      ]
     },
     "metadata": {
      "needs_background": "light"
     },
     "output_type": "display_data"
    }
   ],
   "source": [
    "sns.barplot(x='customer_since_months', y ='avg_wallet_bonus', data = df5 )"
   ]
  },
  {
   "cell_type": "code",
   "execution_count": 94,
   "metadata": {},
   "outputs": [
    {
     "data": {
      "text/html": [
       "<div>\n",
       "<style scoped>\n",
       "    .dataframe tbody tr th:only-of-type {\n",
       "        vertical-align: middle;\n",
       "    }\n",
       "\n",
       "    .dataframe tbody tr th {\n",
       "        vertical-align: top;\n",
       "    }\n",
       "\n",
       "    .dataframe thead th {\n",
       "        text-align: right;\n",
       "    }\n",
       "</style>\n",
       "<table border=\"1\" class=\"dataframe\">\n",
       "  <thead>\n",
       "    <tr style=\"text-align: right;\">\n",
       "      <th></th>\n",
       "      <th>user_id</th>\n",
       "      <th>account_id</th>\n",
       "      <th>max_return_days</th>\n",
       "      <th>average_return_days</th>\n",
       "      <th>customer_since_months</th>\n",
       "      <th>total_revenue</th>\n",
       "      <th>average_revenue</th>\n",
       "      <th>avg_vas_count</th>\n",
       "      <th>avg_used_vas_value</th>\n",
       "      <th>business_type</th>\n",
       "      <th>avg_wallet_bonus</th>\n",
       "      <th>avg_active_ads</th>\n",
       "      <th>avg_new_ads</th>\n",
       "      <th>avg_email_replies</th>\n",
       "      <th>avg_call_replies</th>\n",
       "      <th>avg_sms_replies</th>\n",
       "      <th>target</th>\n",
       "      <th>Quater</th>\n",
       "    </tr>\n",
       "  </thead>\n",
       "  <tbody>\n",
       "    <tr>\n",
       "      <th>0</th>\n",
       "      <td>410039</td>\n",
       "      <td>496.0</td>\n",
       "      <td>8</td>\n",
       "      <td>1.500000</td>\n",
       "      <td>14</td>\n",
       "      <td>0.0</td>\n",
       "      <td>0.0</td>\n",
       "      <td>3.666667</td>\n",
       "      <td>66.666667</td>\n",
       "      <td>0</td>\n",
       "      <td>300.0</td>\n",
       "      <td>79.333333</td>\n",
       "      <td>15.250000</td>\n",
       "      <td>32.416667</td>\n",
       "      <td>27.916667</td>\n",
       "      <td>0.250000</td>\n",
       "      <td>0</td>\n",
       "      <td>4</td>\n",
       "    </tr>\n",
       "    <tr>\n",
       "      <th>1</th>\n",
       "      <td>410240</td>\n",
       "      <td>499.0</td>\n",
       "      <td>37</td>\n",
       "      <td>8.200000</td>\n",
       "      <td>10</td>\n",
       "      <td>0.0</td>\n",
       "      <td>0.0</td>\n",
       "      <td>4.900000</td>\n",
       "      <td>114.000000</td>\n",
       "      <td>0</td>\n",
       "      <td>0.0</td>\n",
       "      <td>232.100000</td>\n",
       "      <td>18.300000</td>\n",
       "      <td>16.200000</td>\n",
       "      <td>13.800000</td>\n",
       "      <td>0.000000</td>\n",
       "      <td>0</td>\n",
       "      <td>3</td>\n",
       "    </tr>\n",
       "    <tr>\n",
       "      <th>2</th>\n",
       "      <td>411764</td>\n",
       "      <td>493.0</td>\n",
       "      <td>9</td>\n",
       "      <td>1.533333</td>\n",
       "      <td>15</td>\n",
       "      <td>0.0</td>\n",
       "      <td>0.0</td>\n",
       "      <td>5.333333</td>\n",
       "      <td>106.666667</td>\n",
       "      <td>0</td>\n",
       "      <td>150.0</td>\n",
       "      <td>55.083333</td>\n",
       "      <td>3.750000</td>\n",
       "      <td>20.250000</td>\n",
       "      <td>24.500000</td>\n",
       "      <td>0.000000</td>\n",
       "      <td>0</td>\n",
       "      <td>4</td>\n",
       "    </tr>\n",
       "    <tr>\n",
       "      <th>3</th>\n",
       "      <td>411985</td>\n",
       "      <td>262.0</td>\n",
       "      <td>1</td>\n",
       "      <td>1.000000</td>\n",
       "      <td>14</td>\n",
       "      <td>0.0</td>\n",
       "      <td>0.0</td>\n",
       "      <td>6.307692</td>\n",
       "      <td>176.153846</td>\n",
       "      <td>0</td>\n",
       "      <td>1481.0</td>\n",
       "      <td>409.538462</td>\n",
       "      <td>80.769231</td>\n",
       "      <td>87.461538</td>\n",
       "      <td>57.615385</td>\n",
       "      <td>0.000000</td>\n",
       "      <td>1</td>\n",
       "      <td>4</td>\n",
       "    </tr>\n",
       "    <tr>\n",
       "      <th>4</th>\n",
       "      <td>412071</td>\n",
       "      <td>496.0</td>\n",
       "      <td>1</td>\n",
       "      <td>1.000000</td>\n",
       "      <td>18</td>\n",
       "      <td>0.0</td>\n",
       "      <td>0.0</td>\n",
       "      <td>5.846154</td>\n",
       "      <td>109.230769</td>\n",
       "      <td>0</td>\n",
       "      <td>41.5</td>\n",
       "      <td>48.230769</td>\n",
       "      <td>1.692308</td>\n",
       "      <td>17.461538</td>\n",
       "      <td>25.769231</td>\n",
       "      <td>0.230769</td>\n",
       "      <td>0</td>\n",
       "      <td>5</td>\n",
       "    </tr>\n",
       "  </tbody>\n",
       "</table>\n",
       "</div>"
      ],
      "text/plain": [
       "   user_id  account_id  max_return_days  average_return_days  \\\n",
       "0   410039       496.0                8             1.500000   \n",
       "1   410240       499.0               37             8.200000   \n",
       "2   411764       493.0                9             1.533333   \n",
       "3   411985       262.0                1             1.000000   \n",
       "4   412071       496.0                1             1.000000   \n",
       "\n",
       "   customer_since_months  total_revenue  average_revenue  avg_vas_count  \\\n",
       "0                     14            0.0              0.0       3.666667   \n",
       "1                     10            0.0              0.0       4.900000   \n",
       "2                     15            0.0              0.0       5.333333   \n",
       "3                     14            0.0              0.0       6.307692   \n",
       "4                     18            0.0              0.0       5.846154   \n",
       "\n",
       "   avg_used_vas_value  business_type  avg_wallet_bonus  avg_active_ads  \\\n",
       "0           66.666667              0             300.0       79.333333   \n",
       "1          114.000000              0               0.0      232.100000   \n",
       "2          106.666667              0             150.0       55.083333   \n",
       "3          176.153846              0            1481.0      409.538462   \n",
       "4          109.230769              0              41.5       48.230769   \n",
       "\n",
       "   avg_new_ads  avg_email_replies  avg_call_replies  avg_sms_replies  target  \\\n",
       "0    15.250000          32.416667         27.916667         0.250000       0   \n",
       "1    18.300000          16.200000         13.800000         0.000000       0   \n",
       "2     3.750000          20.250000         24.500000         0.000000       0   \n",
       "3    80.769231          87.461538         57.615385         0.000000       1   \n",
       "4     1.692308          17.461538         25.769231         0.230769       0   \n",
       "\n",
       "   Quater  \n",
       "0       4  \n",
       "1       3  \n",
       "2       4  \n",
       "3       4  \n",
       "4       5  "
      ]
     },
     "execution_count": 94,
     "metadata": {},
     "output_type": "execute_result"
    }
   ],
   "source": [
    "df5.head()"
   ]
  },
  {
   "cell_type": "code",
   "execution_count": 95,
   "metadata": {},
   "outputs": [
    {
     "data": {
      "text/plain": [
       "<matplotlib.axes._subplots.AxesSubplot at 0x7f893cb292e0>"
      ]
     },
     "execution_count": 95,
     "metadata": {},
     "output_type": "execute_result"
    },
    {
     "data": {
      "image/png": "[encoded data removed]",
      "text/plain": [
       "<Figure size 432x288 with 1 Axes>"
      ]
     },
     "metadata": {
      "needs_background": "light"
     },
     "output_type": "display_data"
    }
   ],
   "source": [
    "sns.barplot(x='customer_since_months', y ='total_revenue', data = df5 )"
   ]
  },
  {
   "cell_type": "code",
   "execution_count": 96,
   "metadata": {},
   "outputs": [
    {
     "data": {
      "text/plain": [
       "<matplotlib.axes._subplots.AxesSubplot at 0x7f893cc177f0>"
      ]
     },
     "execution_count": 96,
     "metadata": {},
     "output_type": "execute_result"
    },
    {
     "data": {
      "image/png": "[encoded data removed]",
      "text/plain": [
       "<Figure size 432x288 with 1 Axes>"
      ]
     },
     "metadata": {
      "needs_background": "light"
     },
     "output_type": "display_data"
    }
   ],
   "source": [
    "sns.lineplot(x='customer_since_months', y = 'target', data = df5)"
   ]
  },
  {
   "cell_type": "code",
   "execution_count": 97,
   "metadata": {},
   "outputs": [],
   "source": [
    "### maximum percentage of customers leave after 6-8 months"
   ]
  },
  {
   "cell_type": "code",
   "execution_count": 98,
   "metadata": {},
   "outputs": [
    {
     "data": {
      "text/html": [
       "<div>\n",
       "<style scoped>\n",
       "    .dataframe tbody tr th:only-of-type {\n",
       "        vertical-align: middle;\n",
       "    }\n",
       "\n",
       "    .dataframe tbody tr th {\n",
       "        vertical-align: top;\n",
       "    }\n",
       "\n",
       "    .dataframe thead th {\n",
       "        text-align: right;\n",
       "    }\n",
       "</style>\n",
       "<table border=\"1\" class=\"dataframe\">\n",
       "  <thead>\n",
       "    <tr style=\"text-align: right;\">\n",
       "      <th></th>\n",
       "      <th>user_id</th>\n",
       "      <th>account_id</th>\n",
       "      <th>max_return_days</th>\n",
       "      <th>average_return_days</th>\n",
       "      <th>customer_since_months</th>\n",
       "      <th>total_revenue</th>\n",
       "      <th>average_revenue</th>\n",
       "      <th>avg_vas_count</th>\n",
       "      <th>avg_used_vas_value</th>\n",
       "      <th>business_type</th>\n",
       "      <th>avg_wallet_bonus</th>\n",
       "      <th>avg_active_ads</th>\n",
       "      <th>avg_new_ads</th>\n",
       "      <th>avg_email_replies</th>\n",
       "      <th>avg_call_replies</th>\n",
       "      <th>avg_sms_replies</th>\n",
       "      <th>target</th>\n",
       "      <th>Quater</th>\n",
       "    </tr>\n",
       "  </thead>\n",
       "  <tbody>\n",
       "    <tr>\n",
       "      <th>0</th>\n",
       "      <td>410039</td>\n",
       "      <td>496.0</td>\n",
       "      <td>8</td>\n",
       "      <td>1.500000</td>\n",
       "      <td>14</td>\n",
       "      <td>0.0</td>\n",
       "      <td>0.0</td>\n",
       "      <td>3.666667</td>\n",
       "      <td>66.666667</td>\n",
       "      <td>0</td>\n",
       "      <td>300.00</td>\n",
       "      <td>79.333333</td>\n",
       "      <td>15.250000</td>\n",
       "      <td>32.416667</td>\n",
       "      <td>27.916667</td>\n",
       "      <td>0.250000</td>\n",
       "      <td>0</td>\n",
       "      <td>4</td>\n",
       "    </tr>\n",
       "    <tr>\n",
       "      <th>1</th>\n",
       "      <td>410240</td>\n",
       "      <td>499.0</td>\n",
       "      <td>37</td>\n",
       "      <td>8.200000</td>\n",
       "      <td>10</td>\n",
       "      <td>0.0</td>\n",
       "      <td>0.0</td>\n",
       "      <td>4.900000</td>\n",
       "      <td>114.000000</td>\n",
       "      <td>0</td>\n",
       "      <td>0.00</td>\n",
       "      <td>232.100000</td>\n",
       "      <td>18.300000</td>\n",
       "      <td>16.200000</td>\n",
       "      <td>13.800000</td>\n",
       "      <td>0.000000</td>\n",
       "      <td>0</td>\n",
       "      <td>3</td>\n",
       "    </tr>\n",
       "    <tr>\n",
       "      <th>2</th>\n",
       "      <td>411764</td>\n",
       "      <td>493.0</td>\n",
       "      <td>9</td>\n",
       "      <td>1.533333</td>\n",
       "      <td>15</td>\n",
       "      <td>0.0</td>\n",
       "      <td>0.0</td>\n",
       "      <td>5.333333</td>\n",
       "      <td>106.666667</td>\n",
       "      <td>0</td>\n",
       "      <td>150.00</td>\n",
       "      <td>55.083333</td>\n",
       "      <td>3.750000</td>\n",
       "      <td>20.250000</td>\n",
       "      <td>24.500000</td>\n",
       "      <td>0.000000</td>\n",
       "      <td>0</td>\n",
       "      <td>4</td>\n",
       "    </tr>\n",
       "    <tr>\n",
       "      <th>3</th>\n",
       "      <td>411985</td>\n",
       "      <td>262.0</td>\n",
       "      <td>1</td>\n",
       "      <td>1.000000</td>\n",
       "      <td>14</td>\n",
       "      <td>0.0</td>\n",
       "      <td>0.0</td>\n",
       "      <td>6.307692</td>\n",
       "      <td>176.153846</td>\n",
       "      <td>0</td>\n",
       "      <td>1481.00</td>\n",
       "      <td>409.538462</td>\n",
       "      <td>80.769231</td>\n",
       "      <td>87.461538</td>\n",
       "      <td>57.615385</td>\n",
       "      <td>0.000000</td>\n",
       "      <td>1</td>\n",
       "      <td>4</td>\n",
       "    </tr>\n",
       "    <tr>\n",
       "      <th>4</th>\n",
       "      <td>412071</td>\n",
       "      <td>496.0</td>\n",
       "      <td>1</td>\n",
       "      <td>1.000000</td>\n",
       "      <td>18</td>\n",
       "      <td>0.0</td>\n",
       "      <td>0.0</td>\n",
       "      <td>5.846154</td>\n",
       "      <td>109.230769</td>\n",
       "      <td>0</td>\n",
       "      <td>41.50</td>\n",
       "      <td>48.230769</td>\n",
       "      <td>1.692308</td>\n",
       "      <td>17.461538</td>\n",
       "      <td>25.769231</td>\n",
       "      <td>0.230769</td>\n",
       "      <td>0</td>\n",
       "      <td>5</td>\n",
       "    </tr>\n",
       "    <tr>\n",
       "      <th>5</th>\n",
       "      <td>412391</td>\n",
       "      <td>113.0</td>\n",
       "      <td>1</td>\n",
       "      <td>1.000000</td>\n",
       "      <td>14</td>\n",
       "      <td>0.0</td>\n",
       "      <td>0.0</td>\n",
       "      <td>12.692308</td>\n",
       "      <td>380.769231</td>\n",
       "      <td>0</td>\n",
       "      <td>350.00</td>\n",
       "      <td>799.153846</td>\n",
       "      <td>115.153846</td>\n",
       "      <td>166.307692</td>\n",
       "      <td>160.769231</td>\n",
       "      <td>0.153846</td>\n",
       "      <td>0</td>\n",
       "      <td>4</td>\n",
       "    </tr>\n",
       "    <tr>\n",
       "      <th>6</th>\n",
       "      <td>412662</td>\n",
       "      <td>1005.0</td>\n",
       "      <td>21</td>\n",
       "      <td>4.636364</td>\n",
       "      <td>11</td>\n",
       "      <td>0.0</td>\n",
       "      <td>0.0</td>\n",
       "      <td>1.000000</td>\n",
       "      <td>26.363636</td>\n",
       "      <td>0</td>\n",
       "      <td>0.00</td>\n",
       "      <td>119.727273</td>\n",
       "      <td>12.454545</td>\n",
       "      <td>46.000000</td>\n",
       "      <td>57.272727</td>\n",
       "      <td>0.181818</td>\n",
       "      <td>0</td>\n",
       "      <td>3</td>\n",
       "    </tr>\n",
       "    <tr>\n",
       "      <th>7</th>\n",
       "      <td>457000</td>\n",
       "      <td>262.0</td>\n",
       "      <td>29</td>\n",
       "      <td>3.250000</td>\n",
       "      <td>16</td>\n",
       "      <td>0.0</td>\n",
       "      <td>0.0</td>\n",
       "      <td>3.250000</td>\n",
       "      <td>68.750000</td>\n",
       "      <td>3</td>\n",
       "      <td>63.07</td>\n",
       "      <td>26.937500</td>\n",
       "      <td>3.250000</td>\n",
       "      <td>18.625000</td>\n",
       "      <td>17.062500</td>\n",
       "      <td>0.062500</td>\n",
       "      <td>0</td>\n",
       "      <td>4</td>\n",
       "    </tr>\n",
       "    <tr>\n",
       "      <th>8</th>\n",
       "      <td>490356</td>\n",
       "      <td>1005.0</td>\n",
       "      <td>3</td>\n",
       "      <td>1.400000</td>\n",
       "      <td>5</td>\n",
       "      <td>0.0</td>\n",
       "      <td>0.0</td>\n",
       "      <td>0.000000</td>\n",
       "      <td>0.000000</td>\n",
       "      <td>5</td>\n",
       "      <td>0.00</td>\n",
       "      <td>2.500000</td>\n",
       "      <td>0.500000</td>\n",
       "      <td>1.000000</td>\n",
       "      <td>1.750000</td>\n",
       "      <td>0.000000</td>\n",
       "      <td>1</td>\n",
       "      <td>2</td>\n",
       "    </tr>\n",
       "    <tr>\n",
       "      <th>9</th>\n",
       "      <td>491551</td>\n",
       "      <td>1017.0</td>\n",
       "      <td>1</td>\n",
       "      <td>1.000000</td>\n",
       "      <td>2</td>\n",
       "      <td>0.0</td>\n",
       "      <td>0.0</td>\n",
       "      <td>0.000000</td>\n",
       "      <td>0.000000</td>\n",
       "      <td>0</td>\n",
       "      <td>0.00</td>\n",
       "      <td>74.500000</td>\n",
       "      <td>10.500000</td>\n",
       "      <td>4.500000</td>\n",
       "      <td>9.500000</td>\n",
       "      <td>0.000000</td>\n",
       "      <td>1</td>\n",
       "      <td>1</td>\n",
       "    </tr>\n",
       "  </tbody>\n",
       "</table>\n",
       "</div>"
      ],
      "text/plain": [
       "   user_id  account_id  max_return_days  average_return_days  \\\n",
       "0   410039       496.0                8             1.500000   \n",
       "1   410240       499.0               37             8.200000   \n",
       "2   411764       493.0                9             1.533333   \n",
       "3   411985       262.0                1             1.000000   \n",
       "4   412071       496.0                1             1.000000   \n",
       "5   412391       113.0                1             1.000000   \n",
       "6   412662      1005.0               21             4.636364   \n",
       "7   457000       262.0               29             3.250000   \n",
       "8   490356      1005.0                3             1.400000   \n",
       "9   491551      1017.0                1             1.000000   \n",
       "\n",
       "   customer_since_months  total_revenue  average_revenue  avg_vas_count  \\\n",
       "0                     14            0.0              0.0       3.666667   \n",
       "1                     10            0.0              0.0       4.900000   \n",
       "2                     15            0.0              0.0       5.333333   \n",
       "3                     14            0.0              0.0       6.307692   \n",
       "4                     18            0.0              0.0       5.846154   \n",
       "5                     14            0.0              0.0      12.692308   \n",
       "6                     11            0.0              0.0       1.000000   \n",
       "7                     16            0.0              0.0       3.250000   \n",
       "8                      5            0.0              0.0       0.000000   \n",
       "9                      2            0.0              0.0       0.000000   \n",
       "\n",
       "   avg_used_vas_value  business_type  avg_wallet_bonus  avg_active_ads  \\\n",
       "0           66.666667              0            300.00       79.333333   \n",
       "1          114.000000              0              0.00      232.100000   \n",
       "2          106.666667              0            150.00       55.083333   \n",
       "3          176.153846              0           1481.00      409.538462   \n",
       "4          109.230769              0             41.50       48.230769   \n",
       "5          380.769231              0            350.00      799.153846   \n",
       "6           26.363636              0              0.00      119.727273   \n",
       "7           68.750000              3             63.07       26.937500   \n",
       "8            0.000000              5              0.00        2.500000   \n",
       "9            0.000000              0              0.00       74.500000   \n",
       "\n",
       "   avg_new_ads  avg_email_replies  avg_call_replies  avg_sms_replies  target  \\\n",
       "0    15.250000          32.416667         27.916667         0.250000       0   \n",
       "1    18.300000          16.200000         13.800000         0.000000       0   \n",
       "2     3.750000          20.250000         24.500000         0.000000       0   \n",
       "3    80.769231          87.461538         57.615385         0.000000       1   \n",
       "4     1.692308          17.461538         25.769231         0.230769       0   \n",
       "5   115.153846         166.307692        160.769231         0.153846       0   \n",
       "6    12.454545          46.000000         57.272727         0.181818       0   \n",
       "7     3.250000          18.625000         17.062500         0.062500       0   \n",
       "8     0.500000           1.000000          1.750000         0.000000       1   \n",
       "9    10.500000           4.500000          9.500000         0.000000       1   \n",
       "\n",
       "   Quater  \n",
       "0       4  \n",
       "1       3  \n",
       "2       4  \n",
       "3       4  \n",
       "4       5  \n",
       "5       4  \n",
       "6       3  \n",
       "7       4  \n",
       "8       2  \n",
       "9       1  "
      ]
     },
     "execution_count": 98,
     "metadata": {},
     "output_type": "execute_result"
    }
   ],
   "source": [
    "df.head(10)"
   ]
  },
  {
   "cell_type": "code",
   "execution_count": 99,
   "metadata": {},
   "outputs": [],
   "source": [
    "df.drop('user_id', inplace = True, axis= 1)\n",
    "df.drop('account_id', inplace = True, axis= 1)\n",
    "df.drop('average_revenue', inplace = True, axis= 1)\n",
    "df.drop('Quater', inplace = True, axis= 1)"
   ]
  },
  {
   "cell_type": "code",
   "execution_count": 100,
   "metadata": {},
   "outputs": [],
   "source": [
    "######"
   ]
  },
  {
   "cell_type": "code",
   "execution_count": 101,
   "metadata": {},
   "outputs": [],
   "source": [
    "X_train, X_test, y_train, y_test = train_test_split(df.drop('target',axis=1), \n",
    "                                                    df['target'], test_size=0.30, \n",
    "                                                    random_state=101)"
   ]
  },
  {
   "cell_type": "markdown",
   "metadata": {},
   "source": [
    "# Logistic Regression "
   ]
  },
  {
   "cell_type": "code",
   "execution_count": 102,
   "metadata": {},
   "outputs": [
    {
     "data": {
      "text/plain": [
       "LogisticRegression(C=50, max_iter=10000)"
      ]
     },
     "execution_count": 102,
     "metadata": {},
     "output_type": "execute_result"
    }
   ],
   "source": [
    "logreg = LogisticRegression(max_iter=10000, C=50)\n",
    "logreg.fit(X_train, y_train)"
   ]
  },
  {
   "cell_type": "code",
   "execution_count": 104,
   "metadata": {},
   "outputs": [],
   "source": [
    "predictions = logreg.predict(X_test)"
   ]
  },
  {
   "cell_type": "code",
   "execution_count": 105,
   "metadata": {},
   "outputs": [
    {
     "name": "stdout",
     "output_type": "stream",
     "text": [
      "              precision    recall  f1-score   support\n",
      "\n",
      "           0       0.91      0.99      0.95      1194\n",
      "           1       0.56      0.12      0.20       126\n",
      "\n",
      "    accuracy                           0.91      1320\n",
      "   macro avg       0.73      0.55      0.57      1320\n",
      "weighted avg       0.88      0.91      0.88      1320\n",
      "\n"
     ]
    }
   ],
   "source": [
    "print(classification_report(y_test,predictions))"
   ]
  },
  {
   "cell_type": "code",
   "execution_count": 106,
   "metadata": {},
   "outputs": [
    {
     "name": "stdout",
     "output_type": "stream",
     "text": [
      "[[1182   12]\n",
      " [ 111   15]]\n"
     ]
    }
   ],
   "source": [
    "print(confusion_matrix(y_test,predictions))"
   ]
  },
  {
   "cell_type": "code",
   "execution_count": 107,
   "metadata": {},
   "outputs": [
    {
     "name": "stdout",
     "output_type": "stream",
     "text": [
      "R-Squared for Train set: 0.901\n",
      "R-Squared for test set: 0.907\n"
     ]
    }
   ],
   "source": [
    "#R-Squared Score\n",
    "\n",
    "print(\"R-Squared for Train set: {:.3f}\".format(logreg.score(X_train, y_train)))\n",
    "print(\"R-Squared for test set: {:.3f}\" .format(logreg.score(X_test, y_test)))"
   ]
  },
  {
   "cell_type": "code",
   "execution_count": 108,
   "metadata": {},
   "outputs": [],
   "source": [
    "scaler = MinMaxScaler()\n",
    "\n",
    "X_train_scaled = scaler.fit_transform(X_train)\n",
    "\n",
    "X_test_scaled = scaler.transform(X_test)"
   ]
  },
  {
   "cell_type": "code",
   "execution_count": 109,
   "metadata": {},
   "outputs": [
    {
     "name": "stdout",
     "output_type": "stream",
     "text": [
      "R-Squared for Train set: 0.896\n",
      "R-Squared for test set: 0.902\n"
     ]
    }
   ],
   "source": [
    "logreg = LogisticRegression(max_iter=10000)\n",
    "logreg.fit(X_train_scaled, y_train)\n",
    "\n",
    "#R-Squared Score\n",
    "\n",
    "print(\"R-Squared for Train set: {:.3f}\".format(logreg.score(X_train_scaled, y_train)))\n",
    "print(\"R-Squared for test set: {:.3f}\" .format(logreg.score(X_test_scaled, y_test)))"
   ]
  },
  {
   "cell_type": "code",
   "execution_count": 110,
   "metadata": {},
   "outputs": [
    {
     "name": "stdout",
     "output_type": "stream",
     "text": [
      "[[1182   12]\n",
      " [ 111   15]]\n"
     ]
    }
   ],
   "source": [
    "print(confusion_matrix(y_test,predictions))"
   ]
  },
  {
   "cell_type": "markdown",
   "metadata": {},
   "source": [
    "# KNN "
   ]
  },
  {
   "cell_type": "code",
   "execution_count": 114,
   "metadata": {},
   "outputs": [
    {
     "name": "stdout",
     "output_type": "stream",
     "text": [
      "Accuracy: 0.8598484848484849\n"
     ]
    }
   ],
   "source": [
    "knnclf = KNeighborsClassifier(n_neighbors=1)\n",
    "\n",
    "knnclf.fit(X_train, y_train)\n",
    "y_pred = knnclf.predict(X_test)\n",
    "print(\"Accuracy:\",accuracy_score(y_test, y_pred))"
   ]
  },
  {
   "cell_type": "code",
   "execution_count": 115,
   "metadata": {},
   "outputs": [],
   "source": [
    "error_rate = []\n",
    "\n",
    "# Will take some time\n",
    "for i in range(1,40):\n",
    "    \n",
    "    knn = KNeighborsClassifier(n_neighbors=i)\n",
    "    knn.fit(X_train,y_train)\n",
    "    pred_i = knn.predict(X_test)\n",
    "    error_rate.append(np.mean(pred_i != y_test))"
   ]
  },
  {
   "cell_type": "code",
   "execution_count": 116,
   "metadata": {},
   "outputs": [
    {
     "data": {
      "text/plain": [
       "Text(0, 0.5, 'Error Rate')"
      ]
     },
     "execution_count": 116,
     "metadata": {},
     "output_type": "execute_result"
    },
    {
     "data": {
      "image/png": "[encoded data removed]",
      "text/plain": [
       "<Figure size 720x432 with 1 Axes>"
      ]
     },
     "metadata": {
      "needs_background": "light"
     },
     "output_type": "display_data"
    }
   ],
   "source": [
    "plt.figure(figsize=(10,6))\n",
    "plt.plot(range(1,40),error_rate,color='blue', linestyle='dashed', marker='o',\n",
    "         markerfacecolor='red', markersize=10)\n",
    "plt.title('Error Rate vs. K Value')\n",
    "plt.xlabel('K')\n",
    "plt.ylabel('Error Rate')"
   ]
  },
  {
   "cell_type": "code",
   "execution_count": 117,
   "metadata": {},
   "outputs": [],
   "source": [
    "#### N = 9  ####"
   ]
  },
  {
   "cell_type": "code",
   "execution_count": 120,
   "metadata": {},
   "outputs": [
    {
     "name": "stdout",
     "output_type": "stream",
     "text": [
      "Accuracy: 0.9030303030303031\n"
     ]
    }
   ],
   "source": [
    "knnclf = KNeighborsClassifier(n_neighbors=9)\n",
    "\n",
    "\n",
    "knnclf.fit(X_train_scaled, y_train)\n",
    "y_pred = knnclf.predict(X_test_scaled)\n",
    "print(\"Accuracy:\",accuracy_score(y_test, y_pred))"
   ]
  },
  {
   "cell_type": "markdown",
   "metadata": {},
   "source": [
    "#### Both KNN and Logistic Regression seems to be doing a good join in predicting the target "
   ]
  },
  {
   "cell_type": "markdown",
   "metadata": {},
   "source": [
    "#### I have completer everything and is looking forward to here from your side.\n",
    "#### If you could spare two minutes i would request you to give me some suggestion on how i can perform            better , please email me with your guidance on 'shreyassharma9912@gmail.com'\n",
    "#### hope to hear a positive response from your side"
   ]
  }
 ],
 "metadata": {
  "kernelspec": {
   "display_name": "Python 3",
   "language": "python",
   "name": "python3"
  },
  "language_info": {
   "codemirror_mode": {
    "name": "ipython",
    "version": 3
   },
   "file_extension": ".py",
   "mimetype": "text/x-python",
   "name": "python",
   "nbconvert_exporter": "python",
   "pygments_lexer": "ipython3",
   "version": "3.8.3"
  }
 },
 "nbformat": 4,
 "nbformat_minor": 4
}
